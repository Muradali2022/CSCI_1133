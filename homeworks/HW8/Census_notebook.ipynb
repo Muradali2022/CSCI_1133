{
 "cells": [
  {
   "cell_type": "code",
   "execution_count": 1,
   "metadata": {},
   "outputs": [],
   "source": [
    "#Murad Ali, CSCI 1133, Lab Section 008, HW 8, alixx800 \n",
    "#Abdikhaliq Omar, CSCI 1133, Lab Section 006, HW 8, omarx122 \n",
    "import csv"
   ]
  },
  {
   "cell_type": "code",
   "execution_count": 2,
   "metadata": {},
   "outputs": [],
   "source": [
    "with open('census.csv') as f:\n",
    "    census = list(csv.DictReader(f))\n",
    "import pandas as pd\n",
    "from pandas import DataFrame, Series\n"
   ]
  },
  {
   "cell_type": "code",
   "execution_count": 3,
   "metadata": {},
   "outputs": [
    {
     "data": {
      "text/plain": [
       "{'Alabama',\n",
       " 'Alaska',\n",
       " 'Arizona',\n",
       " 'Arkansas',\n",
       " 'California',\n",
       " 'Colorado',\n",
       " 'Connecticut',\n",
       " 'Delaware',\n",
       " 'District of Columbia',\n",
       " 'Florida',\n",
       " 'Georgia',\n",
       " 'Hawaii',\n",
       " 'Idaho',\n",
       " 'Illinois',\n",
       " 'Indiana',\n",
       " 'Iowa',\n",
       " 'Kansas',\n",
       " 'Kentucky',\n",
       " 'Louisiana',\n",
       " 'Maine',\n",
       " 'Maryland',\n",
       " 'Massachusetts',\n",
       " 'Michigan',\n",
       " 'Minnesota',\n",
       " 'Mississippi',\n",
       " 'Missouri',\n",
       " 'Montana',\n",
       " 'Nebraska',\n",
       " 'Nevada',\n",
       " 'New Hampshire',\n",
       " 'New Jersey',\n",
       " 'New Mexico',\n",
       " 'New York',\n",
       " 'North Carolina',\n",
       " 'North Dakota',\n",
       " 'Ohio',\n",
       " 'Oklahoma',\n",
       " 'Oregon',\n",
       " 'Pennsylvania',\n",
       " 'Rhode Island',\n",
       " 'South Carolina',\n",
       " 'South Dakota',\n",
       " 'Tennessee',\n",
       " 'Texas',\n",
       " 'Utah',\n",
       " 'Vermont',\n",
       " 'Virginia',\n",
       " 'Washington',\n",
       " 'West Virginia',\n",
       " 'Wisconsin',\n",
       " 'Wyoming'}"
      ]
     },
     "execution_count": 3,
     "metadata": {},
     "output_type": "execute_result"
    }
   ],
   "source": [
    "states = set((i['STNAME']) for i in census)\n",
    "states"
   ]
  },
  {
   "cell_type": "code",
   "execution_count": 4,
   "metadata": {},
   "outputs": [],
   "source": [
    "#Task 1- Worksheet 2\n",
    "# Returns the state with the fewest number of counties in it\n",
    "def answer1(): \n",
    "    Fewest_Counties = []\n",
    "    for county in states: \n",
    "        total_counties= 0\n",
    "        count_counties = 0\n",
    "        for state in census: \n",
    "            if state['STNAME'] == county:\n",
    "                count_counties = (count_counties + 1)\n",
    "        count_counties = count_counties - 1\n",
    "        Fewest_Counties.append([count_counties, county])\n",
    "        Fewest_Counties.sort()\n",
    "        answer = min(Fewest_Counties)\n",
    "        answer1 = str(answer)\n",
    "    return(answer1)"
   ]
  },
  {
   "cell_type": "code",
   "execution_count": 5,
   "metadata": {},
   "outputs": [
    {
     "data": {
      "text/plain": [
       "\"[1, 'District of Columbia']\""
      ]
     },
     "execution_count": 5,
     "metadata": {},
     "output_type": "execute_result"
    }
   ],
   "source": [
    "answer1()"
   ]
  },
  {
   "cell_type": "code",
   "execution_count": 6,
   "metadata": {},
   "outputs": [],
   "source": [
    "#Task 2-Worksheet 2\n",
    "#Returns the state with the highest growth in population due to births over the 5 year span of \n",
    "# 2010 to 2015 along with the average growth due\n",
    "def answer2():\n",
    "    maximum = 0 \n",
    "    total = 0\n",
    "    df = pd.read_csv('census.csv')\n",
    "    length = len(df)\n",
    "    for state in range(0, length):\n",
    "        if df['STNAME'][state] == df['CTYNAME'][state]:\n",
    "            total = df['BIRTHS2010'][state] + df['BIRTHS2011'][state] + df['BIRTHS2012'][state] + df['BIRTHS2013'][state] + df['BIRTHS2014'][state] + df['BIRTHS2015'][state] \n",
    "            if maximum < total:\n",
    "                maximum = total\n",
    "                state = df['STNAME'][state]\n",
    "                average_growth = maximum/5\n",
    "    return str(state) + ' : ' +  str(average_growth)\n",
    "\n",
    "        "
   ]
  },
  {
   "cell_type": "code",
   "execution_count": 7,
   "metadata": {},
   "outputs": [
    {
     "data": {
      "text/plain": [
       "'3192 : 526714.2'"
      ]
     },
     "execution_count": 7,
     "metadata": {},
     "output_type": "execute_result"
    }
   ],
   "source": [
    "answer2()"
   ]
  },
  {
   "cell_type": "code",
   "execution_count": null,
   "metadata": {},
   "outputs": [],
   "source": []
  },
  {
   "cell_type": "code",
   "execution_count": null,
   "metadata": {},
   "outputs": [],
   "source": []
  }
 ],
 "metadata": {
  "kernelspec": {
   "display_name": "Python 3",
   "language": "python",
   "name": "python3"
  },
  "language_info": {
   "codemirror_mode": {
    "name": "ipython",
    "version": 3
   },
   "file_extension": ".py",
   "mimetype": "text/x-python",
   "name": "python",
   "nbconvert_exporter": "python",
   "pygments_lexer": "ipython3",
   "version": "3.7.3"
  }
 },
 "nbformat": 4,
 "nbformat_minor": 2
}
