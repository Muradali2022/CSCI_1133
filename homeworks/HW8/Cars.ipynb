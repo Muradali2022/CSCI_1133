{
 "cells": [
  {
   "cell_type": "code",
   "execution_count": 54,
   "metadata": {},
   "outputs": [
    {
     "data": {
      "text/plain": [
       "1.000"
      ]
     },
     "execution_count": 54,
     "metadata": {},
     "output_type": "execute_result"
    }
   ],
   "source": [
    "#Murad Ali, CSCI1133, HW8, Lab Section 008, alixx800\n",
    "#Abdikhaliq Omar, CSCI1133, HW8, Lab Section 006, omarx122\n",
    "import csv \n",
    "%precision 3\n",
    "1.0"
   ]
  },
  {
   "cell_type": "code",
   "execution_count": 21,
   "metadata": {
    "scrolled": false
   },
   "outputs": [
    {
     "name": "stdout",
     "output_type": "stream",
     "text": [
      "<class 'list'>\n",
      "234\n",
      "[OrderedDict([('', '1'), ('manufacturer', 'allude'), ('model', 'excel'), ('displ', '1.8'), ('year', '1999'), ('cyl', '4'), ('trans', 'auto(l5)'), ('drv', 'f'), ('cty', '18'), ('hwy', '29'), ('fl', 'p'), ('class', 'compact')]), OrderedDict([('', '2'), ('manufacturer', 'allude'), ('model', 'excel'), ('displ', '1.8'), ('year', '1999'), ('cyl', '4'), ('trans', 'manual(m5)'), ('drv', 'f'), ('cty', '21'), ('hwy', '29'), ('fl', 'p'), ('class', 'compact')]), OrderedDict([('', '3'), ('manufacturer', 'allude'), ('model', 'excel'), ('displ', '2'), ('year', '2008'), ('cyl', '4'), ('trans', 'manual(m6)'), ('drv', 'f'), ('cty', '20'), ('hwy', '31'), ('fl', 'p'), ('class', 'compact')]), OrderedDict([('', '4'), ('manufacturer', 'allude'), ('model', 'excel'), ('displ', '2'), ('year', '2008'), ('cyl', '4'), ('trans', 'auto(av)'), ('drv', 'f'), ('cty', '21'), ('hwy', '30'), ('fl', 'p'), ('class', 'compact')]), OrderedDict([('', '5'), ('manufacturer', 'allude'), ('model', 'excel'), ('displ', '2.8'), ('year', '1999'), ('cyl', '6'), ('trans', 'auto(l5)'), ('drv', 'f'), ('cty', '16'), ('hwy', '26'), ('fl', 'p'), ('class', 'compact')]), OrderedDict([('', '6'), ('manufacturer', 'allude'), ('model', 'excel'), ('displ', '2.8'), ('year', '1999'), ('cyl', '6'), ('trans', 'manual(m5)'), ('drv', 'f'), ('cty', '18'), ('hwy', '26'), ('fl', 'p'), ('class', 'compact')]), OrderedDict([('', '7'), ('manufacturer', 'allude'), ('model', 'excel'), ('displ', '3.1'), ('year', '2008'), ('cyl', '6'), ('trans', 'auto(av)'), ('drv', 'f'), ('cty', '18'), ('hwy', '27'), ('fl', 'p'), ('class', 'compact')]), OrderedDict([('', '8'), ('manufacturer', 'allude'), ('model', 'excel finesse'), ('displ', '1.8'), ('year', '1999'), ('cyl', '4'), ('trans', 'manual(m5)'), ('drv', '4'), ('cty', '18'), ('hwy', '26'), ('fl', 'p'), ('class', 'compact')]), OrderedDict([('', '9'), ('manufacturer', 'allude'), ('model', 'excel finesse'), ('displ', '1.8'), ('year', '1999'), ('cyl', '4'), ('trans', 'auto(l5)'), ('drv', '4'), ('cty', '16'), ('hwy', '25'), ('fl', 'p'), ('class', 'compact')]), OrderedDict([('', '10'), ('manufacturer', 'allude'), ('model', 'excel finesse'), ('displ', '2'), ('year', '2008'), ('cyl', '4'), ('trans', 'manual(m6)'), ('drv', '4'), ('cty', '20'), ('hwy', '28'), ('fl', 'p'), ('class', 'compact')]), OrderedDict([('', '11'), ('manufacturer', 'allude'), ('model', 'excel finesse'), ('displ', '2'), ('year', '2008'), ('cyl', '4'), ('trans', 'auto(s6)'), ('drv', '4'), ('cty', '19'), ('hwy', '27'), ('fl', 'p'), ('class', 'compact')]), OrderedDict([('', '12'), ('manufacturer', 'allude'), ('model', 'excel finesse'), ('displ', '2.8'), ('year', '1999'), ('cyl', '6'), ('trans', 'auto(l5)'), ('drv', '4'), ('cty', '15'), ('hwy', '25'), ('fl', 'p'), ('class', 'compact')]), OrderedDict([('', '13'), ('manufacturer', 'allude'), ('model', 'excel finesse'), ('displ', '2.8'), ('year', '1999'), ('cyl', '6'), ('trans', 'manual(m5)'), ('drv', '4'), ('cty', '17'), ('hwy', '25'), ('fl', 'p'), ('class', 'compact')]), OrderedDict([('', '14'), ('manufacturer', 'allude'), ('model', 'excel finesse'), ('displ', '3.1'), ('year', '2008'), ('cyl', '6'), ('trans', 'auto(s6)'), ('drv', '4'), ('cty', '17'), ('hwy', '25'), ('fl', 'p'), ('class', 'compact')]), OrderedDict([('', '15'), ('manufacturer', 'allude'), ('model', 'excel finesse'), ('displ', '3.1'), ('year', '2008'), ('cyl', '6'), ('trans', 'manual(m6)'), ('drv', '4'), ('cty', '15'), ('hwy', '25'), ('fl', 'p'), ('class', 'compact')]), OrderedDict([('', '16'), ('manufacturer', 'allude'), ('model', 'a6 finesse'), ('displ', '2.8'), ('year', '1999'), ('cyl', '6'), ('trans', 'auto(l5)'), ('drv', '4'), ('cty', '15'), ('hwy', '24'), ('fl', 'p'), ('class', 'midsize')]), OrderedDict([('', '17'), ('manufacturer', 'allude'), ('model', 'a6 finesse'), ('displ', '3.1'), ('year', '2008'), ('cyl', '6'), ('trans', 'auto(s6)'), ('drv', '4'), ('cty', '17'), ('hwy', '25'), ('fl', 'p'), ('class', 'midsize')]), OrderedDict([('', '18'), ('manufacturer', 'allude'), ('model', 'a6 finesse'), ('displ', '4.2'), ('year', '2008'), ('cyl', '8'), ('trans', 'auto(s6)'), ('drv', '4'), ('cty', '16'), ('hwy', '23'), ('fl', 'p'), ('class', 'midsize')]), OrderedDict([('', '19'), ('manufacturer', 'chevron'), ('model', 'm1000 suburban 2wd'), ('displ', '5.3'), ('year', '2008'), ('cyl', '8'), ('trans', 'auto(l4)'), ('drv', 'r'), ('cty', '14'), ('hwy', '20'), ('fl', 'r'), ('class', 'suv')]), OrderedDict([('', '20'), ('manufacturer', 'chevron'), ('model', 'm1000 suburban 2wd'), ('displ', '5.3'), ('year', '2008'), ('cyl', '8'), ('trans', 'auto(l4)'), ('drv', 'r'), ('cty', '11'), ('hwy', '15'), ('fl', 'e'), ('class', 'suv')]), OrderedDict([('', '21'), ('manufacturer', 'chevron'), ('model', 'm1000 suburban 2wd'), ('displ', '5.3'), ('year', '2008'), ('cyl', '8'), ('trans', 'auto(l4)'), ('drv', 'r'), ('cty', '14'), ('hwy', '20'), ('fl', 'r'), ('class', 'suv')]), OrderedDict([('', '22'), ('manufacturer', 'chevron'), ('model', 'm1000 suburban 2wd'), ('displ', '5.7'), ('year', '1999'), ('cyl', '8'), ('trans', 'auto(l4)'), ('drv', 'r'), ('cty', '13'), ('hwy', '17'), ('fl', 'r'), ('class', 'suv')]), OrderedDict([('', '23'), ('manufacturer', 'chevron'), ('model', 'm1000 suburban 2wd'), ('displ', '6'), ('year', '2008'), ('cyl', '8'), ('trans', 'auto(l4)'), ('drv', 'r'), ('cty', '12'), ('hwy', '17'), ('fl', 'r'), ('class', 'suv')]), OrderedDict([('', '24'), ('manufacturer', 'chevron'), ('model', 'corvette'), ('displ', '5.7'), ('year', '1999'), ('cyl', '8'), ('trans', 'manual(m6)'), ('drv', 'r'), ('cty', '16'), ('hwy', '26'), ('fl', 'p'), ('class', '2seater')]), OrderedDict([('', '25'), ('manufacturer', 'chevron'), ('model', 'corvette'), ('displ', '5.7'), ('year', '1999'), ('cyl', '8'), ('trans', 'auto(l4)'), ('drv', 'r'), ('cty', '15'), ('hwy', '23'), ('fl', 'p'), ('class', '2seater')]), OrderedDict([('', '26'), ('manufacturer', 'chevron'), ('model', 'corvette'), ('displ', '6.2'), ('year', '2008'), ('cyl', '8'), ('trans', 'manual(m6)'), ('drv', 'r'), ('cty', '16'), ('hwy', '26'), ('fl', 'p'), ('class', '2seater')]), OrderedDict([('', '27'), ('manufacturer', 'chevron'), ('model', 'corvette'), ('displ', '6.2'), ('year', '2008'), ('cyl', '8'), ('trans', 'auto(s6)'), ('drv', 'r'), ('cty', '15'), ('hwy', '25'), ('fl', 'p'), ('class', '2seater')]), OrderedDict([('', '28'), ('manufacturer', 'chevron'), ('model', 'corvette'), ('displ', '7'), ('year', '2008'), ('cyl', '8'), ('trans', 'manual(m6)'), ('drv', 'r'), ('cty', '15'), ('hwy', '24'), ('fl', 'p'), ('class', '2seater')]), OrderedDict([('', '29'), ('manufacturer', 'chevron'), ('model', 'k1500 tahoe 4wd'), ('displ', '5.3'), ('year', '2008'), ('cyl', '8'), ('trans', 'auto(l4)'), ('drv', '4'), ('cty', '14'), ('hwy', '19'), ('fl', 'r'), ('class', 'suv')]), OrderedDict([('', '30'), ('manufacturer', 'chevron'), ('model', 'k1500 tahoe 4wd'), ('displ', '5.3'), ('year', '2008'), ('cyl', '8'), ('trans', 'auto(l4)'), ('drv', '4'), ('cty', '11'), ('hwy', '14'), ('fl', 'e'), ('class', 'suv')]), OrderedDict([('', '31'), ('manufacturer', 'chevron'), ('model', 'k1500 tahoe 4wd'), ('displ', '5.7'), ('year', '1999'), ('cyl', '8'), ('trans', 'auto(l4)'), ('drv', '4'), ('cty', '11'), ('hwy', '15'), ('fl', 'r'), ('class', 'suv')]), OrderedDict([('', '32'), ('manufacturer', 'chevron'), ('model', 'k1500 tahoe 4wd'), ('displ', '6.5'), ('year', '1999'), ('cyl', '8'), ('trans', 'auto(l4)'), ('drv', '4'), ('cty', '14'), ('hwy', '17'), ('fl', 'd'), ('class', 'suv')]), OrderedDict([('', '33'), ('manufacturer', 'chevron'), ('model', 'malibu'), ('displ', '2.4'), ('year', '1999'), ('cyl', '4'), ('trans', 'auto(l4)'), ('drv', 'f'), ('cty', '19'), ('hwy', '27'), ('fl', 'r'), ('class', 'midsize')]), OrderedDict([('', '34'), ('manufacturer', 'chevron'), ('model', 'malibu'), ('displ', '2.4'), ('year', '2008'), ('cyl', '4'), ('trans', 'auto(l4)'), ('drv', 'f'), ('cty', '22'), ('hwy', '30'), ('fl', 'r'), ('class', 'midsize')]), OrderedDict([('', '35'), ('manufacturer', 'chevron'), ('model', 'malibu'), ('displ', '3.1'), ('year', '1999'), ('cyl', '6'), ('trans', 'auto(l4)'), ('drv', 'f'), ('cty', '18'), ('hwy', '26'), ('fl', 'r'), ('class', 'midsize')]), OrderedDict([('', '36'), ('manufacturer', 'chevron'), ('model', 'malibu'), ('displ', '3.5'), ('year', '2008'), ('cyl', '6'), ('trans', 'auto(l4)'), ('drv', 'f'), ('cty', '18'), ('hwy', '29'), ('fl', 'r'), ('class', 'midsize')]), OrderedDict([('', '37'), ('manufacturer', 'chevron'), ('model', 'malibu'), ('displ', '3.6'), ('year', '2008'), ('cyl', '6'), ('trans', 'auto(s6)'), ('drv', 'f'), ('cty', '17'), ('hwy', '26'), ('fl', 'r'), ('class', 'midsize')]), OrderedDict([('', '38'), ('manufacturer', 'doggie'), ('model', 'caravan 2wd'), ('displ', '2.4'), ('year', '1999'), ('cyl', '4'), ('trans', 'auto(l3)'), ('drv', 'f'), ('cty', '18'), ('hwy', '24'), ('fl', 'r'), ('class', 'minivan')]), OrderedDict([('', '39'), ('manufacturer', 'doggie'), ('model', 'caravan 2wd'), ('displ', '3'), ('year', '1999'), ('cyl', '6'), ('trans', 'auto(l4)'), ('drv', 'f'), ('cty', '17'), ('hwy', '24'), ('fl', 'r'), ('class', 'minivan')]), OrderedDict([('', '40'), ('manufacturer', 'doggie'), ('model', 'caravan 2wd'), ('displ', '3.3'), ('year', '1999'), ('cyl', '6'), ('trans', 'auto(l4)'), ('drv', 'f'), ('cty', '16'), ('hwy', '22'), ('fl', 'r'), ('class', 'minivan')]), OrderedDict([('', '41'), ('manufacturer', 'doggie'), ('model', 'caravan 2wd'), ('displ', '3.3'), ('year', '1999'), ('cyl', '6'), ('trans', 'auto(l4)'), ('drv', 'f'), ('cty', '16'), ('hwy', '22'), ('fl', 'r'), ('class', 'minivan')]), OrderedDict([('', '42'), ('manufacturer', 'doggie'), ('model', 'caravan 2wd'), ('displ', '3.3'), ('year', '2008'), ('cyl', '6'), ('trans', 'auto(l4)'), ('drv', 'f'), ('cty', '17'), ('hwy', '24'), ('fl', 'r'), ('class', 'minivan')]), OrderedDict([('', '43'), ('manufacturer', 'doggie'), ('model', 'caravan 2wd'), ('displ', '3.3'), ('year', '2008'), ('cyl', '6'), ('trans', 'auto(l4)'), ('drv', 'f'), ('cty', '17'), ('hwy', '24'), ('fl', 'r'), ('class', 'minivan')]), OrderedDict([('', '44'), ('manufacturer', 'doggie'), ('model', 'caravan 2wd'), ('displ', '3.3'), ('year', '2008'), ('cyl', '6'), ('trans', 'auto(l4)'), ('drv', 'f'), ('cty', '11'), ('hwy', '17'), ('fl', 'e'), ('class', 'minivan')]), OrderedDict([('', '45'), ('manufacturer', 'doggie'), ('model', 'caravan 2wd'), ('displ', '3.8'), ('year', '1999'), ('cyl', '6'), ('trans', 'auto(l4)'), ('drv', 'f'), ('cty', '15'), ('hwy', '22'), ('fl', 'r'), ('class', 'minivan')]), OrderedDict([('', '46'), ('manufacturer', 'doggie'), ('model', 'caravan 2wd'), ('displ', '3.8'), ('year', '1999'), ('cyl', '6'), ('trans', 'auto(l4)'), ('drv', 'f'), ('cty', '15'), ('hwy', '21'), ('fl', 'r'), ('class', 'minivan')]), OrderedDict([('', '47'), ('manufacturer', 'doggie'), ('model', 'caravan 2wd'), ('displ', '3.8'), ('year', '2008'), ('cyl', '6'), ('trans', 'auto(l6)'), ('drv', 'f'), ('cty', '16'), ('hwy', '23'), ('fl', 'r'), ('class', 'minivan')]), OrderedDict([('', '48'), ('manufacturer', 'doggie'), ('model', 'caravan 2wd'), ('displ', '4'), ('year', '2008'), ('cyl', '6'), ('trans', 'auto(l6)'), ('drv', 'f'), ('cty', '16'), ('hwy', '23'), ('fl', 'r'), ('class', 'minivan')]), OrderedDict([('', '49'), ('manufacturer', 'doggie'), ('model', 'dakota pickup 4wd'), ('displ', '3.7'), ('year', '2008'), ('cyl', '6'), ('trans', 'manual(m6)'), ('drv', '4'), ('cty', '15'), ('hwy', '19'), ('fl', 'r'), ('class', 'pickup')]), OrderedDict([('', '50'), ('manufacturer', 'doggie'), ('model', 'dakota pickup 4wd'), ('displ', '3.7'), ('year', '2008'), ('cyl', '6'), ('trans', 'auto(l4)'), ('drv', '4'), ('cty', '14'), ('hwy', '18'), ('fl', 'r'), ('class', 'pickup')]), OrderedDict([('', '51'), ('manufacturer', 'doggie'), ('model', 'dakota pickup 4wd'), ('displ', '3.9'), ('year', '1999'), ('cyl', '6'), ('trans', 'auto(l4)'), ('drv', '4'), ('cty', '13'), ('hwy', '17'), ('fl', 'r'), ('class', 'pickup')]), OrderedDict([('', '52'), ('manufacturer', 'doggie'), ('model', 'dakota pickup 4wd'), ('displ', '3.9'), ('year', '1999'), ('cyl', '6'), ('trans', 'manual(m5)'), ('drv', '4'), ('cty', '14'), ('hwy', '17'), ('fl', 'r'), ('class', 'pickup')]), OrderedDict([('', '53'), ('manufacturer', 'doggie'), ('model', 'dakota pickup 4wd'), ('displ', '4.7'), ('year', '2008'), ('cyl', '8'), ('trans', 'auto(l5)'), ('drv', '4'), ('cty', '14'), ('hwy', '19'), ('fl', 'r'), ('class', 'pickup')]), OrderedDict([('', '54'), ('manufacturer', 'doggie'), ('model', 'dakota pickup 4wd'), ('displ', '4.7'), ('year', '2008'), ('cyl', '8'), ('trans', 'auto(l5)'), ('drv', '4'), ('cty', '14'), ('hwy', '19'), ('fl', 'r'), ('class', 'pickup')]), OrderedDict([('', '55'), ('manufacturer', 'doggie'), ('model', 'dakota pickup 4wd'), ('displ', '4.7'), ('year', '2008'), ('cyl', '8'), ('trans', 'auto(l5)'), ('drv', '4'), ('cty', '9'), ('hwy', '12'), ('fl', 'e'), ('class', 'pickup')]), OrderedDict([('', '56'), ('manufacturer', 'doggie'), ('model', 'dakota pickup 4wd'), ('displ', '5.2'), ('year', '1999'), ('cyl', '8'), ('trans', 'manual(m5)'), ('drv', '4'), ('cty', '11'), ('hwy', '17'), ('fl', 'r'), ('class', 'pickup')]), OrderedDict([('', '57'), ('manufacturer', 'doggie'), ('model', 'dakota pickup 4wd'), ('displ', '5.2'), ('year', '1999'), ('cyl', '8'), ('trans', 'auto(l4)'), ('drv', '4'), ('cty', '11'), ('hwy', '15'), ('fl', 'r'), ('class', 'pickup')]), OrderedDict([('', '58'), ('manufacturer', 'doggie'), ('model', 'durango 4wd'), ('displ', '3.9'), ('year', '1999'), ('cyl', '6'), ('trans', 'auto(l4)'), ('drv', '4'), ('cty', '13'), ('hwy', '17'), ('fl', 'r'), ('class', 'suv')]), OrderedDict([('', '59'), ('manufacturer', 'doggie'), ('model', 'durango 4wd'), ('displ', '4.7'), ('year', '2008'), ('cyl', '8'), ('trans', 'auto(l5)'), ('drv', '4'), ('cty', '13'), ('hwy', '17'), ('fl', 'r'), ('class', 'suv')]), OrderedDict([('', '60'), ('manufacturer', 'doggie'), ('model', 'durango 4wd'), ('displ', '4.7'), ('year', '2008'), ('cyl', '8'), ('trans', 'auto(l5)'), ('drv', '4'), ('cty', '9'), ('hwy', '12'), ('fl', 'e'), ('class', 'suv')]), OrderedDict([('', '61'), ('manufacturer', 'doggie'), ('model', 'durango 4wd'), ('displ', '4.7'), ('year', '2008'), ('cyl', '8'), ('trans', 'auto(l5)'), ('drv', '4'), ('cty', '13'), ('hwy', '17'), ('fl', 'r'), ('class', 'suv')]), OrderedDict([('', '62'), ('manufacturer', 'doggie'), ('model', 'durango 4wd'), ('displ', '5.2'), ('year', '1999'), ('cyl', '8'), ('trans', 'auto(l4)'), ('drv', '4'), ('cty', '11'), ('hwy', '16'), ('fl', 'r'), ('class', 'suv')]), OrderedDict([('', '63'), ('manufacturer', 'doggie'), ('model', 'durango 4wd'), ('displ', '5.7'), ('year', '2008'), ('cyl', '8'), ('trans', 'auto(l5)'), ('drv', '4'), ('cty', '13'), ('hwy', '18'), ('fl', 'r'), ('class', 'suv')]), OrderedDict([('', '64'), ('manufacturer', 'doggie'), ('model', 'durango 4wd'), ('displ', '5.9'), ('year', '1999'), ('cyl', '8'), ('trans', 'auto(l4)'), ('drv', '4'), ('cty', '11'), ('hwy', '15'), ('fl', 'r'), ('class', 'suv')]), OrderedDict([('', '65'), ('manufacturer', 'doggie'), ('model', 'ram 1500 pickup 4wd'), ('displ', '4.7'), ('year', '2008'), ('cyl', '8'), ('trans', 'manual(m6)'), ('drv', '4'), ('cty', '12'), ('hwy', '16'), ('fl', 'r'), ('class', 'pickup')]), OrderedDict([('', '66'), ('manufacturer', 'doggie'), ('model', 'ram 1500 pickup 4wd'), ('displ', '4.7'), ('year', '2008'), ('cyl', '8'), ('trans', 'auto(l5)'), ('drv', '4'), ('cty', '9'), ('hwy', '12'), ('fl', 'e'), ('class', 'pickup')]), OrderedDict([('', '67'), ('manufacturer', 'doggie'), ('model', 'ram 1500 pickup 4wd'), ('displ', '4.7'), ('year', '2008'), ('cyl', '8'), ('trans', 'auto(l5)'), ('drv', '4'), ('cty', '13'), ('hwy', '17'), ('fl', 'r'), ('class', 'pickup')]), OrderedDict([('', '68'), ('manufacturer', 'doggie'), ('model', 'ram 1500 pickup 4wd'), ('displ', '4.7'), ('year', '2008'), ('cyl', '8'), ('trans', 'auto(l5)'), ('drv', '4'), ('cty', '13'), ('hwy', '17'), ('fl', 'r'), ('class', 'pickup')]), OrderedDict([('', '69'), ('manufacturer', 'doggie'), ('model', 'ram 1500 pickup 4wd'), ('displ', '4.7'), ('year', '2008'), ('cyl', '8'), ('trans', 'manual(m6)'), ('drv', '4'), ('cty', '12'), ('hwy', '16'), ('fl', 'r'), ('class', 'pickup')]), OrderedDict([('', '70'), ('manufacturer', 'doggie'), ('model', 'ram 1500 pickup 4wd'), ('displ', '4.7'), ('year', '2008'), ('cyl', '8'), ('trans', 'manual(m6)'), ('drv', '4'), ('cty', '9'), ('hwy', '12'), ('fl', 'e'), ('class', 'pickup')]), OrderedDict([('', '71'), ('manufacturer', 'doggie'), ('model', 'ram 1500 pickup 4wd'), ('displ', '5.2'), ('year', '1999'), ('cyl', '8'), ('trans', 'auto(l4)'), ('drv', '4'), ('cty', '11'), ('hwy', '15'), ('fl', 'r'), ('class', 'pickup')]), OrderedDict([('', '72'), ('manufacturer', 'doggie'), ('model', 'ram 1500 pickup 4wd'), ('displ', '5.2'), ('year', '1999'), ('cyl', '8'), ('trans', 'manual(m5)'), ('drv', '4'), ('cty', '11'), ('hwy', '16'), ('fl', 'r'), ('class', 'pickup')]), OrderedDict([('', '73'), ('manufacturer', 'doggie'), ('model', 'ram 1500 pickup 4wd'), ('displ', '5.7'), ('year', '2008'), ('cyl', '8'), ('trans', 'auto(l5)'), ('drv', '4'), ('cty', '13'), ('hwy', '17'), ('fl', 'r'), ('class', 'pickup')]), OrderedDict([('', '74'), ('manufacturer', 'doggie'), ('model', 'ram 1500 pickup 4wd'), ('displ', '5.9'), ('year', '1999'), ('cyl', '8'), ('trans', 'auto(l4)'), ('drv', '4'), ('cty', '11'), ('hwy', '15'), ('fl', 'r'), ('class', 'pickup')]), OrderedDict([('', '75'), ('manufacturer', 'freeway'), ('model', 'expedition 2wd'), ('displ', '4.6'), ('year', '1999'), ('cyl', '8'), ('trans', 'auto(l4)'), ('drv', 'r'), ('cty', '11'), ('hwy', '17'), ('fl', 'r'), ('class', 'suv')]), OrderedDict([('', '76'), ('manufacturer', 'freeway'), ('model', 'expedition 2wd'), ('displ', '5.4'), ('year', '1999'), ('cyl', '8'), ('trans', 'auto(l4)'), ('drv', 'r'), ('cty', '11'), ('hwy', '17'), ('fl', 'r'), ('class', 'suv')]), OrderedDict([('', '77'), ('manufacturer', 'freeway'), ('model', 'expedition 2wd'), ('displ', '5.4'), ('year', '2008'), ('cyl', '8'), ('trans', 'auto(l6)'), ('drv', 'r'), ('cty', '12'), ('hwy', '18'), ('fl', 'r'), ('class', 'suv')]), OrderedDict([('', '78'), ('manufacturer', 'freeway'), ('model', 'explorer 4wd'), ('displ', '4'), ('year', '1999'), ('cyl', '6'), ('trans', 'auto(l5)'), ('drv', '4'), ('cty', '14'), ('hwy', '17'), ('fl', 'r'), ('class', 'suv')]), OrderedDict([('', '79'), ('manufacturer', 'freeway'), ('model', 'explorer 4wd'), ('displ', '4'), ('year', '1999'), ('cyl', '6'), ('trans', 'manual(m5)'), ('drv', '4'), ('cty', '15'), ('hwy', '19'), ('fl', 'r'), ('class', 'suv')]), OrderedDict([('', '80'), ('manufacturer', 'freeway'), ('model', 'explorer 4wd'), ('displ', '4'), ('year', '1999'), ('cyl', '6'), ('trans', 'auto(l5)'), ('drv', '4'), ('cty', '14'), ('hwy', '17'), ('fl', 'r'), ('class', 'suv')]), OrderedDict([('', '81'), ('manufacturer', 'freeway'), ('model', 'explorer 4wd'), ('displ', '4'), ('year', '2008'), ('cyl', '6'), ('trans', 'auto(l5)'), ('drv', '4'), ('cty', '13'), ('hwy', '19'), ('fl', 'r'), ('class', 'suv')]), OrderedDict([('', '82'), ('manufacturer', 'freeway'), ('model', 'explorer 4wd'), ('displ', '4.6'), ('year', '2008'), ('cyl', '8'), ('trans', 'auto(l6)'), ('drv', '4'), ('cty', '13'), ('hwy', '19'), ('fl', 'r'), ('class', 'suv')]), OrderedDict([('', '83'), ('manufacturer', 'freeway'), ('model', 'explorer 4wd'), ('displ', '5'), ('year', '1999'), ('cyl', '8'), ('trans', 'auto(l4)'), ('drv', '4'), ('cty', '13'), ('hwy', '17'), ('fl', 'r'), ('class', 'suv')]), OrderedDict([('', '84'), ('manufacturer', 'freeway'), ('model', 'f150 pickup 4wd'), ('displ', '4.2'), ('year', '1999'), ('cyl', '6'), ('trans', 'auto(l4)'), ('drv', '4'), ('cty', '14'), ('hwy', '17'), ('fl', 'r'), ('class', 'pickup')]), OrderedDict([('', '85'), ('manufacturer', 'freeway'), ('model', 'f150 pickup 4wd'), ('displ', '4.2'), ('year', '1999'), ('cyl', '6'), ('trans', 'manual(m5)'), ('drv', '4'), ('cty', '14'), ('hwy', '17'), ('fl', 'r'), ('class', 'pickup')]), OrderedDict([('', '86'), ('manufacturer', 'freeway'), ('model', 'f150 pickup 4wd'), ('displ', '4.6'), ('year', '1999'), ('cyl', '8'), ('trans', 'manual(m5)'), ('drv', '4'), ('cty', '13'), ('hwy', '16'), ('fl', 'r'), ('class', 'pickup')]), OrderedDict([('', '87'), ('manufacturer', 'freeway'), ('model', 'f150 pickup 4wd'), ('displ', '4.6'), ('year', '1999'), ('cyl', '8'), ('trans', 'auto(l4)'), ('drv', '4'), ('cty', '13'), ('hwy', '16'), ('fl', 'r'), ('class', 'pickup')]), OrderedDict([('', '88'), ('manufacturer', 'freeway'), ('model', 'f150 pickup 4wd'), ('displ', '4.6'), ('year', '2008'), ('cyl', '8'), ('trans', 'auto(l4)'), ('drv', '4'), ('cty', '13'), ('hwy', '17'), ('fl', 'r'), ('class', 'pickup')]), OrderedDict([('', '89'), ('manufacturer', 'freeway'), ('model', 'f150 pickup 4wd'), ('displ', '5.4'), ('year', '1999'), ('cyl', '8'), ('trans', 'auto(l4)'), ('drv', '4'), ('cty', '11'), ('hwy', '15'), ('fl', 'r'), ('class', 'pickup')]), OrderedDict([('', '90'), ('manufacturer', 'freeway'), ('model', 'f150 pickup 4wd'), ('displ', '5.4'), ('year', '2008'), ('cyl', '8'), ('trans', 'auto(l4)'), ('drv', '4'), ('cty', '13'), ('hwy', '17'), ('fl', 'r'), ('class', 'pickup')]), OrderedDict([('', '91'), ('manufacturer', 'freeway'), ('model', 'mustang'), ('displ', '3.8'), ('year', '1999'), ('cyl', '6'), ('trans', 'manual(m5)'), ('drv', 'r'), ('cty', '18'), ('hwy', '26'), ('fl', 'r'), ('class', 'subcompact')]), OrderedDict([('', '92'), ('manufacturer', 'freeway'), ('model', 'mustang'), ('displ', '3.8'), ('year', '1999'), ('cyl', '6'), ('trans', 'auto(l4)'), ('drv', 'r'), ('cty', '18'), ('hwy', '25'), ('fl', 'r'), ('class', 'subcompact')]), OrderedDict([('', '93'), ('manufacturer', 'freeway'), ('model', 'mustang'), ('displ', '4'), ('year', '2008'), ('cyl', '6'), ('trans', 'manual(m5)'), ('drv', 'r'), ('cty', '17'), ('hwy', '26'), ('fl', 'r'), ('class', 'subcompact')]), OrderedDict([('', '94'), ('manufacturer', 'freeway'), ('model', 'mustang'), ('displ', '4'), ('year', '2008'), ('cyl', '6'), ('trans', 'auto(l5)'), ('drv', 'r'), ('cty', '16'), ('hwy', '24'), ('fl', 'r'), ('class', 'subcompact')]), OrderedDict([('', '95'), ('manufacturer', 'freeway'), ('model', 'mustang'), ('displ', '4.6'), ('year', '1999'), ('cyl', '8'), ('trans', 'auto(l4)'), ('drv', 'r'), ('cty', '15'), ('hwy', '21'), ('fl', 'r'), ('class', 'subcompact')]), OrderedDict([('', '96'), ('manufacturer', 'freeway'), ('model', 'mustang'), ('displ', '4.6'), ('year', '1999'), ('cyl', '8'), ('trans', 'manual(m5)'), ('drv', 'r'), ('cty', '15'), ('hwy', '22'), ('fl', 'r'), ('class', 'subcompact')]), OrderedDict([('', '97'), ('manufacturer', 'freeway'), ('model', 'mustang'), ('displ', '4.6'), ('year', '2008'), ('cyl', '8'), ('trans', 'manual(m5)'), ('drv', 'r'), ('cty', '15'), ('hwy', '23'), ('fl', 'r'), ('class', 'subcompact')]), OrderedDict([('', '98'), ('manufacturer', 'freeway'), ('model', 'mustang'), ('displ', '4.6'), ('year', '2008'), ('cyl', '8'), ('trans', 'auto(l5)'), ('drv', 'r'), ('cty', '15'), ('hwy', '22'), ('fl', 'r'), ('class', 'subcompact')]), OrderedDict([('', '99'), ('manufacturer', 'freeway'), ('model', 'mustang'), ('displ', '5.4'), ('year', '2008'), ('cyl', '8'), ('trans', 'manual(m6)'), ('drv', 'r'), ('cty', '14'), ('hwy', '20'), ('fl', 'p'), ('class', 'subcompact')]), OrderedDict([('', '100'), ('manufacturer', 'honda'), ('model', 'civic'), ('displ', '1.6'), ('year', '1999'), ('cyl', '4'), ('trans', 'manual(m5)'), ('drv', 'f'), ('cty', '28'), ('hwy', '33'), ('fl', 'r'), ('class', 'subcompact')]), OrderedDict([('', '101'), ('manufacturer', 'honda'), ('model', 'civic'), ('displ', '1.6'), ('year', '1999'), ('cyl', '4'), ('trans', 'auto(l4)'), ('drv', 'f'), ('cty', '24'), ('hwy', '32'), ('fl', 'r'), ('class', 'subcompact')]), OrderedDict([('', '102'), ('manufacturer', 'honda'), ('model', 'civic'), ('displ', '1.6'), ('year', '1999'), ('cyl', '4'), ('trans', 'manual(m5)'), ('drv', 'f'), ('cty', '25'), ('hwy', '32'), ('fl', 'r'), ('class', 'subcompact')]), OrderedDict([('', '103'), ('manufacturer', 'honda'), ('model', 'civic'), ('displ', '1.6'), ('year', '1999'), ('cyl', '4'), ('trans', 'manual(m5)'), ('drv', 'f'), ('cty', '23'), ('hwy', '29'), ('fl', 'p'), ('class', 'subcompact')]), OrderedDict([('', '104'), ('manufacturer', 'honda'), ('model', 'civic'), ('displ', '1.6'), ('year', '1999'), ('cyl', '4'), ('trans', 'auto(l4)'), ('drv', 'f'), ('cty', '24'), ('hwy', '32'), ('fl', 'r'), ('class', 'subcompact')]), OrderedDict([('', '105'), ('manufacturer', 'honda'), ('model', 'civic'), ('displ', '1.8'), ('year', '2008'), ('cyl', '4'), ('trans', 'manual(m5)'), ('drv', 'f'), ('cty', '26'), ('hwy', '34'), ('fl', 'r'), ('class', 'subcompact')]), OrderedDict([('', '106'), ('manufacturer', 'honda'), ('model', 'civic'), ('displ', '1.8'), ('year', '2008'), ('cyl', '4'), ('trans', 'auto(l5)'), ('drv', 'f'), ('cty', '25'), ('hwy', '36'), ('fl', 'r'), ('class', 'subcompact')]), OrderedDict([('', '107'), ('manufacturer', 'honda'), ('model', 'civic'), ('displ', '1.8'), ('year', '2008'), ('cyl', '4'), ('trans', 'auto(l5)'), ('drv', 'f'), ('cty', '24'), ('hwy', '36'), ('fl', 'c'), ('class', 'subcompact')]), OrderedDict([('', '108'), ('manufacturer', 'honda'), ('model', 'civic'), ('displ', '2'), ('year', '2008'), ('cyl', '4'), ('trans', 'manual(m6)'), ('drv', 'f'), ('cty', '21'), ('hwy', '29'), ('fl', 'p'), ('class', 'subcompact')]), OrderedDict([('', '109'), ('manufacturer', 'hyundai'), ('model', 'sonata'), ('displ', '2.4'), ('year', '1999'), ('cyl', '4'), ('trans', 'auto(l4)'), ('drv', 'f'), ('cty', '18'), ('hwy', '26'), ('fl', 'r'), ('class', 'midsize')]), OrderedDict([('', '110'), ('manufacturer', 'hyundai'), ('model', 'sonata'), ('displ', '2.4'), ('year', '1999'), ('cyl', '4'), ('trans', 'manual(m5)'), ('drv', 'f'), ('cty', '18'), ('hwy', '27'), ('fl', 'r'), ('class', 'midsize')]), OrderedDict([('', '111'), ('manufacturer', 'hyundai'), ('model', 'sonata'), ('displ', '2.4'), ('year', '2008'), ('cyl', '4'), ('trans', 'auto(l4)'), ('drv', 'f'), ('cty', '21'), ('hwy', '30'), ('fl', 'r'), ('class', 'midsize')]), OrderedDict([('', '112'), ('manufacturer', 'hyundai'), ('model', 'sonata'), ('displ', '2.4'), ('year', '2008'), ('cyl', '4'), ('trans', 'manual(m5)'), ('drv', 'f'), ('cty', '21'), ('hwy', '31'), ('fl', 'r'), ('class', 'midsize')]), OrderedDict([('', '113'), ('manufacturer', 'hyundai'), ('model', 'sonata'), ('displ', '2.5'), ('year', '1999'), ('cyl', '6'), ('trans', 'auto(l4)'), ('drv', 'f'), ('cty', '18'), ('hwy', '26'), ('fl', 'r'), ('class', 'midsize')]), OrderedDict([('', '114'), ('manufacturer', 'hyundai'), ('model', 'sonata'), ('displ', '2.5'), ('year', '1999'), ('cyl', '6'), ('trans', 'manual(m5)'), ('drv', 'f'), ('cty', '18'), ('hwy', '26'), ('fl', 'r'), ('class', 'midsize')]), OrderedDict([('', '115'), ('manufacturer', 'hyundai'), ('model', 'sonata'), ('displ', '3.3'), ('year', '2008'), ('cyl', '6'), ('trans', 'auto(l5)'), ('drv', 'f'), ('cty', '19'), ('hwy', '28'), ('fl', 'r'), ('class', 'midsize')]), OrderedDict([('', '116'), ('manufacturer', 'hyundai'), ('model', 'tiburon'), ('displ', '2'), ('year', '1999'), ('cyl', '4'), ('trans', 'auto(l4)'), ('drv', 'f'), ('cty', '19'), ('hwy', '26'), ('fl', 'r'), ('class', 'subcompact')]), OrderedDict([('', '117'), ('manufacturer', 'hyundai'), ('model', 'tiburon'), ('displ', '2'), ('year', '1999'), ('cyl', '4'), ('trans', 'manual(m5)'), ('drv', 'f'), ('cty', '19'), ('hwy', '29'), ('fl', 'r'), ('class', 'subcompact')]), OrderedDict([('', '118'), ('manufacturer', 'hyundai'), ('model', 'tiburon'), ('displ', '2'), ('year', '2008'), ('cyl', '4'), ('trans', 'manual(m5)'), ('drv', 'f'), ('cty', '20'), ('hwy', '28'), ('fl', 'r'), ('class', 'subcompact')]), OrderedDict([('', '119'), ('manufacturer', 'hyundai'), ('model', 'tiburon'), ('displ', '2'), ('year', '2008'), ('cyl', '4'), ('trans', 'auto(l4)'), ('drv', 'f'), ('cty', '20'), ('hwy', '27'), ('fl', 'r'), ('class', 'subcompact')]), OrderedDict([('', '120'), ('manufacturer', 'hyundai'), ('model', 'tiburon'), ('displ', '2.7'), ('year', '2008'), ('cyl', '6'), ('trans', 'auto(l4)'), ('drv', 'f'), ('cty', '17'), ('hwy', '24'), ('fl', 'r'), ('class', 'subcompact')]), OrderedDict([('', '121'), ('manufacturer', 'hyundai'), ('model', 'tiburon'), ('displ', '2.7'), ('year', '2008'), ('cyl', '6'), ('trans', 'manual(m6)'), ('drv', 'f'), ('cty', '16'), ('hwy', '24'), ('fl', 'r'), ('class', 'subcompact')]), OrderedDict([('', '122'), ('manufacturer', 'hyundai'), ('model', 'tiburon'), ('displ', '2.7'), ('year', '2008'), ('cyl', '6'), ('trans', 'manual(m5)'), ('drv', 'f'), ('cty', '17'), ('hwy', '24'), ('fl', 'r'), ('class', 'subcompact')]), OrderedDict([('', '123'), ('manufacturer', 'jeep'), ('model', 'grand cherokee 4wd'), ('displ', '3'), ('year', '2008'), ('cyl', '6'), ('trans', 'auto(l5)'), ('drv', '4'), ('cty', '17'), ('hwy', '22'), ('fl', 'd'), ('class', 'suv')]), OrderedDict([('', '124'), ('manufacturer', 'jeep'), ('model', 'grand cherokee 4wd'), ('displ', '3.7'), ('year', '2008'), ('cyl', '6'), ('trans', 'auto(l5)'), ('drv', '4'), ('cty', '15'), ('hwy', '19'), ('fl', 'r'), ('class', 'suv')]), OrderedDict([('', '125'), ('manufacturer', 'jeep'), ('model', 'grand cherokee 4wd'), ('displ', '4'), ('year', '1999'), ('cyl', '6'), ('trans', 'auto(l4)'), ('drv', '4'), ('cty', '15'), ('hwy', '20'), ('fl', 'r'), ('class', 'suv')]), OrderedDict([('', '126'), ('manufacturer', 'jeep'), ('model', 'grand cherokee 4wd'), ('displ', '4.7'), ('year', '1999'), ('cyl', '8'), ('trans', 'auto(l4)'), ('drv', '4'), ('cty', '14'), ('hwy', '17'), ('fl', 'r'), ('class', 'suv')]), OrderedDict([('', '127'), ('manufacturer', 'jeep'), ('model', 'grand cherokee 4wd'), ('displ', '4.7'), ('year', '2008'), ('cyl', '8'), ('trans', 'auto(l5)'), ('drv', '4'), ('cty', '9'), ('hwy', '12'), ('fl', 'e'), ('class', 'suv')]), OrderedDict([('', '128'), ('manufacturer', 'jeep'), ('model', 'grand cherokee 4wd'), ('displ', '4.7'), ('year', '2008'), ('cyl', '8'), ('trans', 'auto(l5)'), ('drv', '4'), ('cty', '14'), ('hwy', '19'), ('fl', 'r'), ('class', 'suv')]), OrderedDict([('', '129'), ('manufacturer', 'jeep'), ('model', 'grand cherokee 4wd'), ('displ', '5.7'), ('year', '2008'), ('cyl', '8'), ('trans', 'auto(l5)'), ('drv', '4'), ('cty', '13'), ('hwy', '18'), ('fl', 'r'), ('class', 'suv')]), OrderedDict([('', '130'), ('manufacturer', 'jeep'), ('model', 'grand cherokee 4wd'), ('displ', '6.1'), ('year', '2008'), ('cyl', '8'), ('trans', 'auto(l5)'), ('drv', '4'), ('cty', '11'), ('hwy', '14'), ('fl', 'p'), ('class', 'suv')]), OrderedDict([('', '131'), ('manufacturer', 'land rover'), ('model', 'range rover'), ('displ', '4'), ('year', '1999'), ('cyl', '8'), ('trans', 'auto(l4)'), ('drv', '4'), ('cty', '11'), ('hwy', '15'), ('fl', 'p'), ('class', 'suv')]), OrderedDict([('', '132'), ('manufacturer', 'land rover'), ('model', 'range rover'), ('displ', '4.2'), ('year', '2008'), ('cyl', '8'), ('trans', 'auto(s6)'), ('drv', '4'), ('cty', '12'), ('hwy', '18'), ('fl', 'r'), ('class', 'suv')]), OrderedDict([('', '133'), ('manufacturer', 'land rover'), ('model', 'range rover'), ('displ', '4.4'), ('year', '2008'), ('cyl', '8'), ('trans', 'auto(s6)'), ('drv', '4'), ('cty', '12'), ('hwy', '18'), ('fl', 'r'), ('class', 'suv')]), OrderedDict([('', '134'), ('manufacturer', 'land rover'), ('model', 'range rover'), ('displ', '4.6'), ('year', '1999'), ('cyl', '8'), ('trans', 'auto(l4)'), ('drv', '4'), ('cty', '11'), ('hwy', '15'), ('fl', 'p'), ('class', 'suv')]), OrderedDict([('', '135'), ('manufacturer', 'lincoln'), ('model', 'navigator 2wd'), ('displ', '5.4'), ('year', '1999'), ('cyl', '8'), ('trans', 'auto(l4)'), ('drv', 'r'), ('cty', '11'), ('hwy', '17'), ('fl', 'r'), ('class', 'suv')]), OrderedDict([('', '136'), ('manufacturer', 'lincoln'), ('model', 'navigator 2wd'), ('displ', '5.4'), ('year', '1999'), ('cyl', '8'), ('trans', 'auto(l4)'), ('drv', 'r'), ('cty', '11'), ('hwy', '16'), ('fl', 'p'), ('class', 'suv')]), OrderedDict([('', '137'), ('manufacturer', 'lincoln'), ('model', 'navigator 2wd'), ('displ', '5.4'), ('year', '2008'), ('cyl', '8'), ('trans', 'auto(l6)'), ('drv', 'r'), ('cty', '12'), ('hwy', '18'), ('fl', 'r'), ('class', 'suv')]), OrderedDict([('', '138'), ('manufacturer', 'mercury'), ('model', 'mountaineer 4wd'), ('displ', '4'), ('year', '1999'), ('cyl', '6'), ('trans', 'auto(l5)'), ('drv', '4'), ('cty', '14'), ('hwy', '17'), ('fl', 'r'), ('class', 'suv')]), OrderedDict([('', '139'), ('manufacturer', 'mercury'), ('model', 'mountaineer 4wd'), ('displ', '4'), ('year', '2008'), ('cyl', '6'), ('trans', 'auto(l5)'), ('drv', '4'), ('cty', '13'), ('hwy', '19'), ('fl', 'r'), ('class', 'suv')]), OrderedDict([('', '140'), ('manufacturer', 'mercury'), ('model', 'mountaineer 4wd'), ('displ', '4.6'), ('year', '2008'), ('cyl', '8'), ('trans', 'auto(l6)'), ('drv', '4'), ('cty', '13'), ('hwy', '19'), ('fl', 'r'), ('class', 'suv')]), OrderedDict([('', '141'), ('manufacturer', 'mercury'), ('model', 'mountaineer 4wd'), ('displ', '5'), ('year', '1999'), ('cyl', '8'), ('trans', 'auto(l4)'), ('drv', '4'), ('cty', '13'), ('hwy', '17'), ('fl', 'r'), ('class', 'suv')]), OrderedDict([('', '142'), ('manufacturer', 'nissan'), ('model', 'altima'), ('displ', '2.4'), ('year', '1999'), ('cyl', '4'), ('trans', 'manual(m5)'), ('drv', 'f'), ('cty', '21'), ('hwy', '29'), ('fl', 'r'), ('class', 'compact')]), OrderedDict([('', '143'), ('manufacturer', 'nissan'), ('model', 'altima'), ('displ', '2.4'), ('year', '1999'), ('cyl', '4'), ('trans', 'auto(l4)'), ('drv', 'f'), ('cty', '19'), ('hwy', '27'), ('fl', 'r'), ('class', 'compact')]), OrderedDict([('', '144'), ('manufacturer', 'nissan'), ('model', 'altima'), ('displ', '2.5'), ('year', '2008'), ('cyl', '4'), ('trans', 'auto(av)'), ('drv', 'f'), ('cty', '23'), ('hwy', '31'), ('fl', 'r'), ('class', 'midsize')]), OrderedDict([('', '145'), ('manufacturer', 'nissan'), ('model', 'altima'), ('displ', '2.5'), ('year', '2008'), ('cyl', '4'), ('trans', 'manual(m6)'), ('drv', 'f'), ('cty', '23'), ('hwy', '32'), ('fl', 'r'), ('class', 'midsize')]), OrderedDict([('', '146'), ('manufacturer', 'nissan'), ('model', 'altima'), ('displ', '3.5'), ('year', '2008'), ('cyl', '6'), ('trans', 'manual(m6)'), ('drv', 'f'), ('cty', '19'), ('hwy', '27'), ('fl', 'p'), ('class', 'midsize')]), OrderedDict([('', '147'), ('manufacturer', 'nissan'), ('model', 'altima'), ('displ', '3.5'), ('year', '2008'), ('cyl', '6'), ('trans', 'auto(av)'), ('drv', 'f'), ('cty', '19'), ('hwy', '26'), ('fl', 'p'), ('class', 'midsize')]), OrderedDict([('', '148'), ('manufacturer', 'nissan'), ('model', 'maxima'), ('displ', '3'), ('year', '1999'), ('cyl', '6'), ('trans', 'auto(l4)'), ('drv', 'f'), ('cty', '18'), ('hwy', '26'), ('fl', 'r'), ('class', 'midsize')]), OrderedDict([('', '149'), ('manufacturer', 'nissan'), ('model', 'maxima'), ('displ', '3'), ('year', '1999'), ('cyl', '6'), ('trans', 'manual(m5)'), ('drv', 'f'), ('cty', '19'), ('hwy', '25'), ('fl', 'r'), ('class', 'midsize')]), OrderedDict([('', '150'), ('manufacturer', 'nissan'), ('model', 'maxima'), ('displ', '3.5'), ('year', '2008'), ('cyl', '6'), ('trans', 'auto(av)'), ('drv', 'f'), ('cty', '19'), ('hwy', '25'), ('fl', 'p'), ('class', 'midsize')]), OrderedDict([('', '151'), ('manufacturer', 'nissan'), ('model', 'pathfinder 4wd'), ('displ', '3.3'), ('year', '1999'), ('cyl', '6'), ('trans', 'auto(l4)'), ('drv', '4'), ('cty', '14'), ('hwy', '17'), ('fl', 'r'), ('class', 'suv')]), OrderedDict([('', '152'), ('manufacturer', 'nissan'), ('model', 'pathfinder 4wd'), ('displ', '3.3'), ('year', '1999'), ('cyl', '6'), ('trans', 'manual(m5)'), ('drv', '4'), ('cty', '15'), ('hwy', '17'), ('fl', 'r'), ('class', 'suv')]), OrderedDict([('', '153'), ('manufacturer', 'nissan'), ('model', 'pathfinder 4wd'), ('displ', '4'), ('year', '2008'), ('cyl', '6'), ('trans', 'auto(l5)'), ('drv', '4'), ('cty', '14'), ('hwy', '20'), ('fl', 'p'), ('class', 'suv')]), OrderedDict([('', '154'), ('manufacturer', 'nissan'), ('model', 'pathfinder 4wd'), ('displ', '5.6'), ('year', '2008'), ('cyl', '8'), ('trans', 'auto(s5)'), ('drv', '4'), ('cty', '12'), ('hwy', '18'), ('fl', 'p'), ('class', 'suv')]), OrderedDict([('', '155'), ('manufacturer', 'silver'), ('model', 'grand prix'), ('displ', '3.1'), ('year', '1999'), ('cyl', '6'), ('trans', 'auto(l4)'), ('drv', 'f'), ('cty', '18'), ('hwy', '26'), ('fl', 'r'), ('class', 'midsize')]), OrderedDict([('', '156'), ('manufacturer', 'silver'), ('model', 'grand prix'), ('displ', '3.8'), ('year', '1999'), ('cyl', '6'), ('trans', 'auto(l4)'), ('drv', 'f'), ('cty', '16'), ('hwy', '26'), ('fl', 'p'), ('class', 'midsize')]), OrderedDict([('', '157'), ('manufacturer', 'silver'), ('model', 'grand prix'), ('displ', '3.8'), ('year', '1999'), ('cyl', '6'), ('trans', 'auto(l4)'), ('drv', 'f'), ('cty', '17'), ('hwy', '27'), ('fl', 'r'), ('class', 'midsize')]), OrderedDict([('', '158'), ('manufacturer', 'silver'), ('model', 'grand prix'), ('displ', '3.8'), ('year', '2008'), ('cyl', '6'), ('trans', 'auto(l4)'), ('drv', 'f'), ('cty', '18'), ('hwy', '28'), ('fl', 'r'), ('class', 'midsize')]), OrderedDict([('', '159'), ('manufacturer', 'silver'), ('model', 'grand prix'), ('displ', '5.3'), ('year', '2008'), ('cyl', '8'), ('trans', 'auto(s4)'), ('drv', 'f'), ('cty', '16'), ('hwy', '25'), ('fl', 'p'), ('class', 'midsize')]), OrderedDict([('', '160'), ('manufacturer', 'subbie'), ('model', 'forester awd'), ('displ', '2.5'), ('year', '1999'), ('cyl', '4'), ('trans', 'manual(m5)'), ('drv', '4'), ('cty', '18'), ('hwy', '25'), ('fl', 'r'), ('class', 'suv')]), OrderedDict([('', '161'), ('manufacturer', 'subbie'), ('model', 'forester awd'), ('displ', '2.5'), ('year', '1999'), ('cyl', '4'), ('trans', 'auto(l4)'), ('drv', '4'), ('cty', '18'), ('hwy', '24'), ('fl', 'r'), ('class', 'suv')]), OrderedDict([('', '162'), ('manufacturer', 'subbie'), ('model', 'forester awd'), ('displ', '2.5'), ('year', '2008'), ('cyl', '4'), ('trans', 'manual(m5)'), ('drv', '4'), ('cty', '20'), ('hwy', '27'), ('fl', 'r'), ('class', 'suv')]), OrderedDict([('', '163'), ('manufacturer', 'subbie'), ('model', 'forester awd'), ('displ', '2.5'), ('year', '2008'), ('cyl', '4'), ('trans', 'manual(m5)'), ('drv', '4'), ('cty', '19'), ('hwy', '25'), ('fl', 'p'), ('class', 'suv')]), OrderedDict([('', '164'), ('manufacturer', 'subbie'), ('model', 'forester awd'), ('displ', '2.5'), ('year', '2008'), ('cyl', '4'), ('trans', 'auto(l4)'), ('drv', '4'), ('cty', '20'), ('hwy', '26'), ('fl', 'r'), ('class', 'suv')]), OrderedDict([('', '165'), ('manufacturer', 'subbie'), ('model', 'forester awd'), ('displ', '2.5'), ('year', '2008'), ('cyl', '4'), ('trans', 'auto(l4)'), ('drv', '4'), ('cty', '18'), ('hwy', '23'), ('fl', 'p'), ('class', 'suv')]), OrderedDict([('', '166'), ('manufacturer', 'subbie'), ('model', 'impreza awd'), ('displ', '2.2'), ('year', '1999'), ('cyl', '4'), ('trans', 'auto(l4)'), ('drv', '4'), ('cty', '21'), ('hwy', '26'), ('fl', 'r'), ('class', 'subcompact')]), OrderedDict([('', '167'), ('manufacturer', 'subbie'), ('model', 'impreza awd'), ('displ', '2.2'), ('year', '1999'), ('cyl', '4'), ('trans', 'manual(m5)'), ('drv', '4'), ('cty', '19'), ('hwy', '26'), ('fl', 'r'), ('class', 'subcompact')]), OrderedDict([('', '168'), ('manufacturer', 'subbie'), ('model', 'impreza awd'), ('displ', '2.5'), ('year', '1999'), ('cyl', '4'), ('trans', 'manual(m5)'), ('drv', '4'), ('cty', '19'), ('hwy', '26'), ('fl', 'r'), ('class', 'subcompact')]), OrderedDict([('', '169'), ('manufacturer', 'subbie'), ('model', 'impreza awd'), ('displ', '2.5'), ('year', '1999'), ('cyl', '4'), ('trans', 'auto(l4)'), ('drv', '4'), ('cty', '19'), ('hwy', '26'), ('fl', 'r'), ('class', 'subcompact')]), OrderedDict([('', '170'), ('manufacturer', 'subbie'), ('model', 'impreza awd'), ('displ', '2.5'), ('year', '2008'), ('cyl', '4'), ('trans', 'auto(s4)'), ('drv', '4'), ('cty', '20'), ('hwy', '25'), ('fl', 'p'), ('class', 'compact')]), OrderedDict([('', '171'), ('manufacturer', 'subbie'), ('model', 'impreza awd'), ('displ', '2.5'), ('year', '2008'), ('cyl', '4'), ('trans', 'auto(s4)'), ('drv', '4'), ('cty', '20'), ('hwy', '27'), ('fl', 'r'), ('class', 'compact')]), OrderedDict([('', '172'), ('manufacturer', 'subbie'), ('model', 'impreza awd'), ('displ', '2.5'), ('year', '2008'), ('cyl', '4'), ('trans', 'manual(m5)'), ('drv', '4'), ('cty', '19'), ('hwy', '25'), ('fl', 'p'), ('class', 'compact')]), OrderedDict([('', '173'), ('manufacturer', 'subbie'), ('model', 'impreza awd'), ('displ', '2.5'), ('year', '2008'), ('cyl', '4'), ('trans', 'manual(m5)'), ('drv', '4'), ('cty', '20'), ('hwy', '27'), ('fl', 'r'), ('class', 'compact')]), OrderedDict([('', '174'), ('manufacturer', 'tinker'), ('model', '4runner 4wd'), ('displ', '2.7'), ('year', '1999'), ('cyl', '4'), ('trans', 'manual(m5)'), ('drv', '4'), ('cty', '15'), ('hwy', '20'), ('fl', 'r'), ('class', 'suv')]), OrderedDict([('', '175'), ('manufacturer', 'tinker'), ('model', '4runner 4wd'), ('displ', '2.7'), ('year', '1999'), ('cyl', '4'), ('trans', 'auto(l4)'), ('drv', '4'), ('cty', '16'), ('hwy', '20'), ('fl', 'r'), ('class', 'suv')]), OrderedDict([('', '176'), ('manufacturer', 'tinker'), ('model', '4runner 4wd'), ('displ', '3.4'), ('year', '1999'), ('cyl', '6'), ('trans', 'auto(l4)'), ('drv', '4'), ('cty', '15'), ('hwy', '19'), ('fl', 'r'), ('class', 'suv')]), OrderedDict([('', '177'), ('manufacturer', 'tinker'), ('model', '4runner 4wd'), ('displ', '3.4'), ('year', '1999'), ('cyl', '6'), ('trans', 'manual(m5)'), ('drv', '4'), ('cty', '15'), ('hwy', '17'), ('fl', 'r'), ('class', 'suv')]), OrderedDict([('', '178'), ('manufacturer', 'tinker'), ('model', '4runner 4wd'), ('displ', '4'), ('year', '2008'), ('cyl', '6'), ('trans', 'auto(l5)'), ('drv', '4'), ('cty', '16'), ('hwy', '20'), ('fl', 'r'), ('class', 'suv')]), OrderedDict([('', '179'), ('manufacturer', 'tinker'), ('model', '4runner 4wd'), ('displ', '4.7'), ('year', '2008'), ('cyl', '8'), ('trans', 'auto(l5)'), ('drv', '4'), ('cty', '14'), ('hwy', '17'), ('fl', 'r'), ('class', 'suv')]), OrderedDict([('', '180'), ('manufacturer', 'tinker'), ('model', 'camry'), ('displ', '2.2'), ('year', '1999'), ('cyl', '4'), ('trans', 'manual(m5)'), ('drv', 'f'), ('cty', '21'), ('hwy', '29'), ('fl', 'r'), ('class', 'midsize')]), OrderedDict([('', '181'), ('manufacturer', 'tinker'), ('model', 'camry'), ('displ', '2.2'), ('year', '1999'), ('cyl', '4'), ('trans', 'auto(l4)'), ('drv', 'f'), ('cty', '21'), ('hwy', '27'), ('fl', 'r'), ('class', 'midsize')]), OrderedDict([('', '182'), ('manufacturer', 'tinker'), ('model', 'camry'), ('displ', '2.4'), ('year', '2008'), ('cyl', '4'), ('trans', 'manual(m5)'), ('drv', 'f'), ('cty', '21'), ('hwy', '31'), ('fl', 'r'), ('class', 'midsize')]), OrderedDict([('', '183'), ('manufacturer', 'tinker'), ('model', 'camry'), ('displ', '2.4'), ('year', '2008'), ('cyl', '4'), ('trans', 'auto(l5)'), ('drv', 'f'), ('cty', '21'), ('hwy', '31'), ('fl', 'r'), ('class', 'midsize')]), OrderedDict([('', '184'), ('manufacturer', 'tinker'), ('model', 'camry'), ('displ', '3'), ('year', '1999'), ('cyl', '6'), ('trans', 'auto(l4)'), ('drv', 'f'), ('cty', '18'), ('hwy', '26'), ('fl', 'r'), ('class', 'midsize')]), OrderedDict([('', '185'), ('manufacturer', 'tinker'), ('model', 'camry'), ('displ', '3'), ('year', '1999'), ('cyl', '6'), ('trans', 'manual(m5)'), ('drv', 'f'), ('cty', '18'), ('hwy', '26'), ('fl', 'r'), ('class', 'midsize')]), OrderedDict([('', '186'), ('manufacturer', 'tinker'), ('model', 'camry'), ('displ', '3.5'), ('year', '2008'), ('cyl', '6'), ('trans', 'auto(s6)'), ('drv', 'f'), ('cty', '19'), ('hwy', '28'), ('fl', 'r'), ('class', 'midsize')]), OrderedDict([('', '187'), ('manufacturer', 'tinker'), ('model', 'camry solara'), ('displ', '2.2'), ('year', '1999'), ('cyl', '4'), ('trans', 'auto(l4)'), ('drv', 'f'), ('cty', '21'), ('hwy', '27'), ('fl', 'r'), ('class', 'compact')]), OrderedDict([('', '188'), ('manufacturer', 'tinker'), ('model', 'camry solara'), ('displ', '2.2'), ('year', '1999'), ('cyl', '4'), ('trans', 'manual(m5)'), ('drv', 'f'), ('cty', '21'), ('hwy', '29'), ('fl', 'r'), ('class', 'compact')]), OrderedDict([('', '189'), ('manufacturer', 'tinker'), ('model', 'camry solara'), ('displ', '2.4'), ('year', '2008'), ('cyl', '4'), ('trans', 'manual(m5)'), ('drv', 'f'), ('cty', '21'), ('hwy', '31'), ('fl', 'r'), ('class', 'compact')]), OrderedDict([('', '190'), ('manufacturer', 'tinker'), ('model', 'camry solara'), ('displ', '2.4'), ('year', '2008'), ('cyl', '4'), ('trans', 'auto(s5)'), ('drv', 'f'), ('cty', '22'), ('hwy', '31'), ('fl', 'r'), ('class', 'compact')]), OrderedDict([('', '191'), ('manufacturer', 'tinker'), ('model', 'camry solara'), ('displ', '3'), ('year', '1999'), ('cyl', '6'), ('trans', 'auto(l4)'), ('drv', 'f'), ('cty', '18'), ('hwy', '26'), ('fl', 'r'), ('class', 'compact')]), OrderedDict([('', '192'), ('manufacturer', 'tinker'), ('model', 'camry solara'), ('displ', '3'), ('year', '1999'), ('cyl', '6'), ('trans', 'manual(m5)'), ('drv', 'f'), ('cty', '18'), ('hwy', '26'), ('fl', 'r'), ('class', 'compact')]), OrderedDict([('', '193'), ('manufacturer', 'tinker'), ('model', 'camry solara'), ('displ', '3.3'), ('year', '2008'), ('cyl', '6'), ('trans', 'auto(s5)'), ('drv', 'f'), ('cty', '18'), ('hwy', '27'), ('fl', 'r'), ('class', 'compact')]), OrderedDict([('', '194'), ('manufacturer', 'tinker'), ('model', 'corolla'), ('displ', '1.8'), ('year', '1999'), ('cyl', '4'), ('trans', 'auto(l3)'), ('drv', 'f'), ('cty', '24'), ('hwy', '30'), ('fl', 'r'), ('class', 'compact')]), OrderedDict([('', '195'), ('manufacturer', 'tinker'), ('model', 'corolla'), ('displ', '1.8'), ('year', '1999'), ('cyl', '4'), ('trans', 'auto(l4)'), ('drv', 'f'), ('cty', '24'), ('hwy', '33'), ('fl', 'r'), ('class', 'compact')]), OrderedDict([('', '196'), ('manufacturer', 'tinker'), ('model', 'corolla'), ('displ', '1.8'), ('year', '1999'), ('cyl', '4'), ('trans', 'manual(m5)'), ('drv', 'f'), ('cty', '26'), ('hwy', '35'), ('fl', 'r'), ('class', 'compact')]), OrderedDict([('', '197'), ('manufacturer', 'tinker'), ('model', 'corolla'), ('displ', '1.8'), ('year', '2008'), ('cyl', '4'), ('trans', 'manual(m5)'), ('drv', 'f'), ('cty', '28'), ('hwy', '37'), ('fl', 'r'), ('class', 'compact')]), OrderedDict([('', '198'), ('manufacturer', 'tinker'), ('model', 'corolla'), ('displ', '1.8'), ('year', '2008'), ('cyl', '4'), ('trans', 'auto(l4)'), ('drv', 'f'), ('cty', '26'), ('hwy', '35'), ('fl', 'r'), ('class', 'compact')]), OrderedDict([('', '199'), ('manufacturer', 'tinker'), ('model', 'land cruiser wagon 4wd'), ('displ', '4.7'), ('year', '1999'), ('cyl', '8'), ('trans', 'auto(l4)'), ('drv', '4'), ('cty', '11'), ('hwy', '15'), ('fl', 'r'), ('class', 'suv')]), OrderedDict([('', '200'), ('manufacturer', 'tinker'), ('model', 'land cruiser wagon 4wd'), ('displ', '5.7'), ('year', '2008'), ('cyl', '8'), ('trans', 'auto(s6)'), ('drv', '4'), ('cty', '13'), ('hwy', '18'), ('fl', 'r'), ('class', 'suv')]), OrderedDict([('', '201'), ('manufacturer', 'tinker'), ('model', 'tinker tacoma 4wd'), ('displ', '2.7'), ('year', '1999'), ('cyl', '4'), ('trans', 'manual(m5)'), ('drv', '4'), ('cty', '15'), ('hwy', '20'), ('fl', 'r'), ('class', 'pickup')]), OrderedDict([('', '202'), ('manufacturer', 'tinker'), ('model', 'tinker tacoma 4wd'), ('displ', '2.7'), ('year', '1999'), ('cyl', '4'), ('trans', 'auto(l4)'), ('drv', '4'), ('cty', '16'), ('hwy', '20'), ('fl', 'r'), ('class', 'pickup')]), OrderedDict([('', '203'), ('manufacturer', 'tinker'), ('model', 'tinker tacoma 4wd'), ('displ', '2.7'), ('year', '2008'), ('cyl', '4'), ('trans', 'manual(m5)'), ('drv', '4'), ('cty', '17'), ('hwy', '22'), ('fl', 'r'), ('class', 'pickup')]), OrderedDict([('', '204'), ('manufacturer', 'tinker'), ('model', 'tinker tacoma 4wd'), ('displ', '3.4'), ('year', '1999'), ('cyl', '6'), ('trans', 'manual(m5)'), ('drv', '4'), ('cty', '15'), ('hwy', '17'), ('fl', 'r'), ('class', 'pickup')]), OrderedDict([('', '205'), ('manufacturer', 'tinker'), ('model', 'tinker tacoma 4wd'), ('displ', '3.4'), ('year', '1999'), ('cyl', '6'), ('trans', 'auto(l4)'), ('drv', '4'), ('cty', '15'), ('hwy', '19'), ('fl', 'r'), ('class', 'pickup')]), OrderedDict([('', '206'), ('manufacturer', 'tinker'), ('model', 'tinker tacoma 4wd'), ('displ', '4'), ('year', '2008'), ('cyl', '6'), ('trans', 'manual(m6)'), ('drv', '4'), ('cty', '15'), ('hwy', '18'), ('fl', 'r'), ('class', 'pickup')]), OrderedDict([('', '207'), ('manufacturer', 'tinker'), ('model', 'tinker tacoma 4wd'), ('displ', '4'), ('year', '2008'), ('cyl', '6'), ('trans', 'auto(l5)'), ('drv', '4'), ('cty', '16'), ('hwy', '20'), ('fl', 'r'), ('class', 'pickup')]), OrderedDict([('', '208'), ('manufacturer', 'volks'), ('model', 'gild'), ('displ', '2'), ('year', '1999'), ('cyl', '4'), ('trans', 'manual(m5)'), ('drv', 'f'), ('cty', '21'), ('hwy', '29'), ('fl', 'r'), ('class', 'compact')]), OrderedDict([('', '209'), ('manufacturer', 'volks'), ('model', 'gild'), ('displ', '2'), ('year', '1999'), ('cyl', '4'), ('trans', 'auto(l4)'), ('drv', 'f'), ('cty', '19'), ('hwy', '26'), ('fl', 'r'), ('class', 'compact')]), OrderedDict([('', '210'), ('manufacturer', 'volks'), ('model', 'gild'), ('displ', '2'), ('year', '2008'), ('cyl', '4'), ('trans', 'manual(m6)'), ('drv', 'f'), ('cty', '21'), ('hwy', '29'), ('fl', 'p'), ('class', 'compact')]), OrderedDict([('', '211'), ('manufacturer', 'volks'), ('model', 'gild'), ('displ', '2'), ('year', '2008'), ('cyl', '4'), ('trans', 'auto(s6)'), ('drv', 'f'), ('cty', '22'), ('hwy', '29'), ('fl', 'p'), ('class', 'compact')]), OrderedDict([('', '212'), ('manufacturer', 'volks'), ('model', 'gild'), ('displ', '2.8'), ('year', '1999'), ('cyl', '6'), ('trans', 'manual(m5)'), ('drv', 'f'), ('cty', '17'), ('hwy', '24'), ('fl', 'r'), ('class', 'compact')]), OrderedDict([('', '213'), ('manufacturer', 'volks'), ('model', 'jetfast'), ('displ', '1.9'), ('year', '1999'), ('cyl', '4'), ('trans', 'manual(m5)'), ('drv', 'f'), ('cty', '33'), ('hwy', '44'), ('fl', 'd'), ('class', 'compact')]), OrderedDict([('', '214'), ('manufacturer', 'volks'), ('model', 'jetfast'), ('displ', '2'), ('year', '1999'), ('cyl', '4'), ('trans', 'manual(m5)'), ('drv', 'f'), ('cty', '21'), ('hwy', '29'), ('fl', 'r'), ('class', 'compact')]), OrderedDict([('', '215'), ('manufacturer', 'volks'), ('model', 'jetfast'), ('displ', '2'), ('year', '1999'), ('cyl', '4'), ('trans', 'auto(l4)'), ('drv', 'f'), ('cty', '19'), ('hwy', '26'), ('fl', 'r'), ('class', 'compact')]), OrderedDict([('', '216'), ('manufacturer', 'volks'), ('model', 'jetfast'), ('displ', '2'), ('year', '2008'), ('cyl', '4'), ('trans', 'auto(s6)'), ('drv', 'f'), ('cty', '22'), ('hwy', '29'), ('fl', 'p'), ('class', 'compact')]), OrderedDict([('', '217'), ('manufacturer', 'volks'), ('model', 'jetfast'), ('displ', '2'), ('year', '2008'), ('cyl', '4'), ('trans', 'manual(m6)'), ('drv', 'f'), ('cty', '21'), ('hwy', '29'), ('fl', 'p'), ('class', 'compact')]), OrderedDict([('', '218'), ('manufacturer', 'volks'), ('model', 'jetfast'), ('displ', '2.5'), ('year', '2008'), ('cyl', '5'), ('trans', 'auto(s6)'), ('drv', 'f'), ('cty', '21'), ('hwy', '29'), ('fl', 'r'), ('class', 'compact')]), OrderedDict([('', '219'), ('manufacturer', 'volks'), ('model', 'jetfast'), ('displ', '2.5'), ('year', '2008'), ('cyl', '5'), ('trans', 'manual(m5)'), ('drv', 'f'), ('cty', '21'), ('hwy', '29'), ('fl', 'r'), ('class', 'compact')]), OrderedDict([('', '220'), ('manufacturer', 'volks'), ('model', 'jetfast'), ('displ', '2.8'), ('year', '1999'), ('cyl', '6'), ('trans', 'auto(l4)'), ('drv', 'f'), ('cty', '16'), ('hwy', '23'), ('fl', 'r'), ('class', 'compact')]), OrderedDict([('', '221'), ('manufacturer', 'volks'), ('model', 'jetfast'), ('displ', '2.8'), ('year', '1999'), ('cyl', '6'), ('trans', 'manual(m5)'), ('drv', 'f'), ('cty', '17'), ('hwy', '24'), ('fl', 'r'), ('class', 'compact')]), OrderedDict([('', '222'), ('manufacturer', 'volks'), ('model', 'old beetle'), ('displ', '1.9'), ('year', '1999'), ('cyl', '4'), ('trans', 'manual(m5)'), ('drv', 'f'), ('cty', '35'), ('hwy', '44'), ('fl', 'd'), ('class', 'subcompact')]), OrderedDict([('', '223'), ('manufacturer', 'volks'), ('model', 'old beetle'), ('displ', '1.9'), ('year', '1999'), ('cyl', '4'), ('trans', 'auto(l4)'), ('drv', 'f'), ('cty', '29'), ('hwy', '41'), ('fl', 'd'), ('class', 'subcompact')]), OrderedDict([('', '224'), ('manufacturer', 'volks'), ('model', 'old beetle'), ('displ', '2'), ('year', '1999'), ('cyl', '4'), ('trans', 'manual(m5)'), ('drv', 'f'), ('cty', '21'), ('hwy', '29'), ('fl', 'r'), ('class', 'subcompact')]), OrderedDict([('', '225'), ('manufacturer', 'volks'), ('model', 'old beetle'), ('displ', '2'), ('year', '1999'), ('cyl', '4'), ('trans', 'auto(l4)'), ('drv', 'f'), ('cty', '19'), ('hwy', '26'), ('fl', 'r'), ('class', 'subcompact')]), OrderedDict([('', '226'), ('manufacturer', 'volks'), ('model', 'old beetle'), ('displ', '2.5'), ('year', '2008'), ('cyl', '5'), ('trans', 'manual(m5)'), ('drv', 'f'), ('cty', '20'), ('hwy', '28'), ('fl', 'r'), ('class', 'subcompact')]), OrderedDict([('', '227'), ('manufacturer', 'volks'), ('model', 'old beetle'), ('displ', '2.5'), ('year', '2008'), ('cyl', '5'), ('trans', 'auto(s6)'), ('drv', 'f'), ('cty', '20'), ('hwy', '29'), ('fl', 'r'), ('class', 'subcompact')]), OrderedDict([('', '228'), ('manufacturer', 'volks'), ('model', 'box'), ('displ', '1.8'), ('year', '1999'), ('cyl', '4'), ('trans', 'manual(m5)'), ('drv', 'f'), ('cty', '21'), ('hwy', '29'), ('fl', 'p'), ('class', 'midsize')]), OrderedDict([('', '229'), ('manufacturer', 'volks'), ('model', 'box'), ('displ', '1.8'), ('year', '1999'), ('cyl', '4'), ('trans', 'auto(l5)'), ('drv', 'f'), ('cty', '18'), ('hwy', '29'), ('fl', 'p'), ('class', 'midsize')]), OrderedDict([('', '230'), ('manufacturer', 'volks'), ('model', 'box'), ('displ', '2'), ('year', '2008'), ('cyl', '4'), ('trans', 'auto(s6)'), ('drv', 'f'), ('cty', '19'), ('hwy', '28'), ('fl', 'p'), ('class', 'midsize')]), OrderedDict([('', '231'), ('manufacturer', 'volks'), ('model', 'box'), ('displ', '2'), ('year', '2008'), ('cyl', '4'), ('trans', 'manual(m6)'), ('drv', 'f'), ('cty', '21'), ('hwy', '29'), ('fl', 'p'), ('class', 'midsize')]), OrderedDict([('', '232'), ('manufacturer', 'volks'), ('model', 'box'), ('displ', '2.8'), ('year', '1999'), ('cyl', '6'), ('trans', 'auto(l5)'), ('drv', 'f'), ('cty', '16'), ('hwy', '26'), ('fl', 'p'), ('class', 'midsize')]), OrderedDict([('', '233'), ('manufacturer', 'volks'), ('model', 'box'), ('displ', '2.8'), ('year', '1999'), ('cyl', '6'), ('trans', 'manual(m5)'), ('drv', 'f'), ('cty', '18'), ('hwy', '26'), ('fl', 'p'), ('class', 'midsize')]), OrderedDict([('', '234'), ('manufacturer', 'volks'), ('model', 'box'), ('displ', '3.6'), ('year', '2008'), ('cyl', '6'), ('trans', 'auto(s6)'), ('drv', 'f'), ('cty', '17'), ('hwy', '26'), ('fl', 'p'), ('class', 'midsize')])]\n"
     ]
    }
   ],
   "source": [
    "with open('cars_mpg.csv') as f:\n",
    "    mpg = list(csv.DictReader(f))\n",
    "# Question:  What did we create?  \n",
    "# Look at the types\n",
    "print(type(mpg))\n",
    "print(len(mpg))\n",
    "print(mpg)"
   ]
  },
  {
   "cell_type": "code",
   "execution_count": 22,
   "metadata": {},
   "outputs": [
    {
     "data": {
      "text/plain": [
       "[23.440, 16.859]"
      ]
     },
     "execution_count": 22,
     "metadata": {},
     "output_type": "execute_result"
    }
   ],
   "source": [
    "#Task1-Worksheet 1\n",
    "#Calculates the average miles per gallon (mpg) for city driving and the average mpg for highway driving\n",
    "mylist = []\n",
    "mylist.append(sum(int(d['hwy'])for d in mpg)/len(mpg))\n",
    "mylist.append(sum(int(d['cty'])for d in mpg)/len(mpg))\n",
    "mylist"
   ]
  },
  {
   "cell_type": "code",
   "execution_count": 23,
   "metadata": {},
   "outputs": [
    {
     "name": "stdout",
     "output_type": "stream",
     "text": [
      "{'freeway', 'lincoln', 'silver', 'tinker', 'chevron', 'volks', 'mercury', 'nissan', 'allude', 'doggie', 'subbie', 'honda', 'hyundai', 'land rover', 'jeep'}\n"
     ]
    }
   ],
   "source": [
    "#Task2-Worksheet 1\n",
    "#Shows the different types of manufacturers and displays it as a set\n",
    "manu = set(m['manufacturer']for m in mpg)\n",
    "print(manu)"
   ]
  },
  {
   "cell_type": "code",
   "execution_count": 24,
   "metadata": {},
   "outputs": [
    {
     "data": {
      "text/plain": [
       "[[19.360,\n",
       "  17.000,\n",
       "  26.400,\n",
       "  24.912,\n",
       "  21.895,\n",
       "  29.222,\n",
       "  18.000,\n",
       "  24.615,\n",
       "  26.444,\n",
       "  17.946,\n",
       "  25.571,\n",
       "  32.556,\n",
       "  26.857,\n",
       "  16.500,\n",
       "  17.625],\n",
       " [14.000,\n",
       "  11.333,\n",
       "  17.000,\n",
       "  18.529,\n",
       "  15.000,\n",
       "  20.926,\n",
       "  13.250,\n",
       "  18.077,\n",
       "  17.611,\n",
       "  13.135,\n",
       "  19.286,\n",
       "  24.444,\n",
       "  18.643,\n",
       "  11.500,\n",
       "  13.500]]"
      ]
     },
     "execution_count": 24,
     "metadata": {},
     "output_type": "execute_result"
    }
   ],
   "source": [
    "#Task3-Worksheet 1\n",
    "#Calculates the average mpg city driving and the average mpg for highway driving for each manufacturer and \n",
    "#display it as list of two lists\n",
    "ByManuAvgNum = []\n",
    "hwy = []\n",
    "for m in manu:\n",
    "    total_num = 0\n",
    "    count_num = 0\n",
    "    \n",
    "    for rec in mpg: \n",
    "        if rec['manufacturer']== m:\n",
    "            count_num = count_num + 1 \n",
    "            total_num = total_num + float(rec['hwy'])\n",
    "    hwy.append(total_num/count_num)\n",
    "    \n",
    "cty = []\n",
    "for m in manu:\n",
    "    total_num = 0 \n",
    "    count_num = 0\n",
    "    \n",
    "    for rec in mpg:\n",
    "        if rec['manufacturer']== m:\n",
    "            count_num = count_num + 1 \n",
    "            total_num = total_num + float(rec['cty'])\n",
    "    cty.append(total_num/count_num)\n",
    "    \n",
    "        \n",
    "ByManuAvgNum = [hwy, cty]\n",
    "ByManuAvgNum"
   ]
  },
  {
   "cell_type": "code",
   "execution_count": 25,
   "metadata": {},
   "outputs": [
    {
     "data": {
      "text/plain": [
       "[[16.500,\n",
       "  17.000,\n",
       "  17.625,\n",
       "  17.946,\n",
       "  18.000,\n",
       "  19.360,\n",
       "  21.895,\n",
       "  24.615,\n",
       "  24.912,\n",
       "  25.571,\n",
       "  26.400,\n",
       "  26.444,\n",
       "  26.857,\n",
       "  29.222,\n",
       "  32.556],\n",
       " [11.333,\n",
       "  11.500,\n",
       "  13.135,\n",
       "  13.250,\n",
       "  13.500,\n",
       "  14.000,\n",
       "  15.000,\n",
       "  17.000,\n",
       "  17.611,\n",
       "  18.077,\n",
       "  18.529,\n",
       "  18.643,\n",
       "  19.286,\n",
       "  20.926,\n",
       "  24.444]]"
      ]
     },
     "execution_count": 25,
     "metadata": {},
     "output_type": "execute_result"
    }
   ],
   "source": [
    "#Task4-Worksheet 1\n",
    "# Sorts the lists of average city driving and average highway driving for each manufacturer\n",
    "hwy.sort()\n",
    "cty.sort()\n",
    "ByManuAvgNum"
   ]
  },
  {
   "cell_type": "code",
   "execution_count": 30,
   "metadata": {},
   "outputs": [
    {
     "data": {
      "text/plain": [
       "<bound method NDFrame.head of      Unnamed: 0 manufacturer               model  displ  year  cyl  \\\n",
       "0             1       allude               excel    1.8  1999    4   \n",
       "1             2       allude               excel    1.8  1999    4   \n",
       "2             3       allude               excel    2.0  2008    4   \n",
       "3             4       allude               excel    2.0  2008    4   \n",
       "4             5       allude               excel    2.8  1999    6   \n",
       "5             6       allude               excel    2.8  1999    6   \n",
       "6             7       allude               excel    3.1  2008    6   \n",
       "7             8       allude       excel finesse    1.8  1999    4   \n",
       "8             9       allude       excel finesse    1.8  1999    4   \n",
       "9            10       allude       excel finesse    2.0  2008    4   \n",
       "10           11       allude       excel finesse    2.0  2008    4   \n",
       "11           12       allude       excel finesse    2.8  1999    6   \n",
       "12           13       allude       excel finesse    2.8  1999    6   \n",
       "13           14       allude       excel finesse    3.1  2008    6   \n",
       "14           15       allude       excel finesse    3.1  2008    6   \n",
       "15           16       allude          a6 finesse    2.8  1999    6   \n",
       "16           17       allude          a6 finesse    3.1  2008    6   \n",
       "17           18       allude          a6 finesse    4.2  2008    8   \n",
       "18           19      chevron  m1000 suburban 2wd    5.3  2008    8   \n",
       "19           20      chevron  m1000 suburban 2wd    5.3  2008    8   \n",
       "20           21      chevron  m1000 suburban 2wd    5.3  2008    8   \n",
       "21           22      chevron  m1000 suburban 2wd    5.7  1999    8   \n",
       "22           23      chevron  m1000 suburban 2wd    6.0  2008    8   \n",
       "23           24      chevron            corvette    5.7  1999    8   \n",
       "24           25      chevron            corvette    5.7  1999    8   \n",
       "25           26      chevron            corvette    6.2  2008    8   \n",
       "26           27      chevron            corvette    6.2  2008    8   \n",
       "27           28      chevron            corvette    7.0  2008    8   \n",
       "28           29      chevron     k1500 tahoe 4wd    5.3  2008    8   \n",
       "29           30      chevron     k1500 tahoe 4wd    5.3  2008    8   \n",
       "..          ...          ...                 ...    ...   ...  ...   \n",
       "204         205       tinker   tinker tacoma 4wd    3.4  1999    6   \n",
       "205         206       tinker   tinker tacoma 4wd    4.0  2008    6   \n",
       "206         207       tinker   tinker tacoma 4wd    4.0  2008    6   \n",
       "207         208        volks                gild    2.0  1999    4   \n",
       "208         209        volks                gild    2.0  1999    4   \n",
       "209         210        volks                gild    2.0  2008    4   \n",
       "210         211        volks                gild    2.0  2008    4   \n",
       "211         212        volks                gild    2.8  1999    6   \n",
       "212         213        volks             jetfast    1.9  1999    4   \n",
       "213         214        volks             jetfast    2.0  1999    4   \n",
       "214         215        volks             jetfast    2.0  1999    4   \n",
       "215         216        volks             jetfast    2.0  2008    4   \n",
       "216         217        volks             jetfast    2.0  2008    4   \n",
       "217         218        volks             jetfast    2.5  2008    5   \n",
       "218         219        volks             jetfast    2.5  2008    5   \n",
       "219         220        volks             jetfast    2.8  1999    6   \n",
       "220         221        volks             jetfast    2.8  1999    6   \n",
       "221         222        volks          old beetle    1.9  1999    4   \n",
       "222         223        volks          old beetle    1.9  1999    4   \n",
       "223         224        volks          old beetle    2.0  1999    4   \n",
       "224         225        volks          old beetle    2.0  1999    4   \n",
       "225         226        volks          old beetle    2.5  2008    5   \n",
       "226         227        volks          old beetle    2.5  2008    5   \n",
       "227         228        volks                 box    1.8  1999    4   \n",
       "228         229        volks                 box    1.8  1999    4   \n",
       "229         230        volks                 box    2.0  2008    4   \n",
       "230         231        volks                 box    2.0  2008    4   \n",
       "231         232        volks                 box    2.8  1999    6   \n",
       "232         233        volks                 box    2.8  1999    6   \n",
       "233         234        volks                 box    3.6  2008    6   \n",
       "\n",
       "          trans drv  cty  hwy fl       class  \n",
       "0      auto(l5)   f   18   29  p     compact  \n",
       "1    manual(m5)   f   21   29  p     compact  \n",
       "2    manual(m6)   f   20   31  p     compact  \n",
       "3      auto(av)   f   21   30  p     compact  \n",
       "4      auto(l5)   f   16   26  p     compact  \n",
       "5    manual(m5)   f   18   26  p     compact  \n",
       "6      auto(av)   f   18   27  p     compact  \n",
       "7    manual(m5)   4   18   26  p     compact  \n",
       "8      auto(l5)   4   16   25  p     compact  \n",
       "9    manual(m6)   4   20   28  p     compact  \n",
       "10     auto(s6)   4   19   27  p     compact  \n",
       "11     auto(l5)   4   15   25  p     compact  \n",
       "12   manual(m5)   4   17   25  p     compact  \n",
       "13     auto(s6)   4   17   25  p     compact  \n",
       "14   manual(m6)   4   15   25  p     compact  \n",
       "15     auto(l5)   4   15   24  p     midsize  \n",
       "16     auto(s6)   4   17   25  p     midsize  \n",
       "17     auto(s6)   4   16   23  p     midsize  \n",
       "18     auto(l4)   r   14   20  r         suv  \n",
       "19     auto(l4)   r   11   15  e         suv  \n",
       "20     auto(l4)   r   14   20  r         suv  \n",
       "21     auto(l4)   r   13   17  r         suv  \n",
       "22     auto(l4)   r   12   17  r         suv  \n",
       "23   manual(m6)   r   16   26  p     2seater  \n",
       "24     auto(l4)   r   15   23  p     2seater  \n",
       "25   manual(m6)   r   16   26  p     2seater  \n",
       "26     auto(s6)   r   15   25  p     2seater  \n",
       "27   manual(m6)   r   15   24  p     2seater  \n",
       "28     auto(l4)   4   14   19  r         suv  \n",
       "29     auto(l4)   4   11   14  e         suv  \n",
       "..          ...  ..  ...  ... ..         ...  \n",
       "204    auto(l4)   4   15   19  r      pickup  \n",
       "205  manual(m6)   4   15   18  r      pickup  \n",
       "206    auto(l5)   4   16   20  r      pickup  \n",
       "207  manual(m5)   f   21   29  r     compact  \n",
       "208    auto(l4)   f   19   26  r     compact  \n",
       "209  manual(m6)   f   21   29  p     compact  \n",
       "210    auto(s6)   f   22   29  p     compact  \n",
       "211  manual(m5)   f   17   24  r     compact  \n",
       "212  manual(m5)   f   33   44  d     compact  \n",
       "213  manual(m5)   f   21   29  r     compact  \n",
       "214    auto(l4)   f   19   26  r     compact  \n",
       "215    auto(s6)   f   22   29  p     compact  \n",
       "216  manual(m6)   f   21   29  p     compact  \n",
       "217    auto(s6)   f   21   29  r     compact  \n",
       "218  manual(m5)   f   21   29  r     compact  \n",
       "219    auto(l4)   f   16   23  r     compact  \n",
       "220  manual(m5)   f   17   24  r     compact  \n",
       "221  manual(m5)   f   35   44  d  subcompact  \n",
       "222    auto(l4)   f   29   41  d  subcompact  \n",
       "223  manual(m5)   f   21   29  r  subcompact  \n",
       "224    auto(l4)   f   19   26  r  subcompact  \n",
       "225  manual(m5)   f   20   28  r  subcompact  \n",
       "226    auto(s6)   f   20   29  r  subcompact  \n",
       "227  manual(m5)   f   21   29  p     midsize  \n",
       "228    auto(l5)   f   18   29  p     midsize  \n",
       "229    auto(s6)   f   19   28  p     midsize  \n",
       "230  manual(m6)   f   21   29  p     midsize  \n",
       "231    auto(l5)   f   16   26  p     midsize  \n",
       "232  manual(m5)   f   18   26  p     midsize  \n",
       "233    auto(s6)   f   17   26  p     midsize  \n",
       "\n",
       "[234 rows x 12 columns]>"
      ]
     },
     "execution_count": 30,
     "metadata": {},
     "output_type": "execute_result"
    }
   ],
   "source": [
    "#Task 5-Worksheet 1\n",
    "#Imports the desired file into a pandas dataframe and displays the head of the dataframe\n",
    "import pandas as pd\n",
    "import pandas as pd\n",
    "from pandas import DataFrame, Series\n",
    "%precision 3\n",
    "df1 = pd.read_csv('cars_mpg.csv', index_col = 0)\n",
    "df1.head"
   ]
  },
  {
   "cell_type": "code",
   "execution_count": 31,
   "metadata": {},
   "outputs": [
    {
     "data": {
      "text/plain": [
       "(44, 35)"
      ]
     },
     "execution_count": 31,
     "metadata": {},
     "output_type": "execute_result"
    }
   ],
   "source": [
    "#Task 6- Worksheet 1\n",
    "#Calculates the maximum mpg for both city and highway driving using dataframes\n",
    "df1['hwy'].max(), df1['cty'].max()"
   ]
  },
  {
   "cell_type": "code",
   "execution_count": 45,
   "metadata": {},
   "outputs": [
    {
     "data": {
      "text/html": [
       "<div>\n",
       "<style scoped>\n",
       "    .dataframe tbody tr th:only-of-type {\n",
       "        vertical-align: middle;\n",
       "    }\n",
       "\n",
       "    .dataframe tbody tr th {\n",
       "        vertical-align: top;\n",
       "    }\n",
       "\n",
       "    .dataframe thead th {\n",
       "        text-align: right;\n",
       "    }\n",
       "</style>\n",
       "<table border=\"1\" class=\"dataframe\">\n",
       "  <thead>\n",
       "    <tr style=\"text-align: right;\">\n",
       "      <th></th>\n",
       "      <th>mpg_city</th>\n",
       "      <th>mpg_hwy</th>\n",
       "    </tr>\n",
       "  </thead>\n",
       "  <tbody>\n",
       "    <tr>\n",
       "      <th>0</th>\n",
       "      <td>16.858974</td>\n",
       "      <td>23.440171</td>\n",
       "    </tr>\n",
       "  </tbody>\n",
       "</table>\n",
       "</div>"
      ],
      "text/plain": [
       "    mpg_city    mpg_hwy\n",
       "0  16.858974  23.440171"
      ]
     },
     "execution_count": 45,
     "metadata": {},
     "output_type": "execute_result"
    }
   ],
   "source": [
    "#Task 7-Worksheet 1 \n",
    "#Calculates the average mpg for city driving and the average mpg for highway driving and stores the results \n",
    "# in a dataframe with the column names being mpg_city and mpg_highway\n",
    "cty_avg = []\n",
    "hwy_avg = []\n",
    "hwy_avg.append(sum(int(d['hwy'])for d in mpg)/len(mpg))\n",
    "cty_avg.append(sum(int(d['cty'])for d in mpg)/len(mpg))\n",
    "df2 = {'mpg_city': cty_avg, 'mpg_hwy': hwy_avg}\n",
    "pd.DataFrame(df2)"
   ]
  },
  {
   "cell_type": "code",
   "execution_count": 55,
   "metadata": {},
   "outputs": [
    {
     "data": {
      "text/plain": [
       "<matplotlib.axes._subplots.AxesSubplot at 0x11e6384a8>"
      ]
     },
     "execution_count": 55,
     "metadata": {},
     "output_type": "execute_result"
    },
    {
     "data": {
      "image/png": "[encoded data removed]",
      "text/plain": [
       "<Figure size 432x288 with 1 Axes>"
      ]
     },
     "metadata": {
      "needs_background": "light"
     },
     "output_type": "display_data"
    }
   ],
   "source": [
    "#Task 8- Worksheet 1 \n",
    "#Plots the mpg for highway driving\n",
    "import matplotlib.pyplot as plt\n",
    "highway = df1.groupby('hwy')\n",
    "df3 = highway['manufacturer'].sum()\n",
    "df1['hwy'].plot.bar()"
   ]
  },
  {
   "cell_type": "code",
   "execution_count": null,
   "metadata": {},
   "outputs": [],
   "source": []
  }
 ],
 "metadata": {
  "kernelspec": {
   "display_name": "Python 3",
   "language": "python",
   "name": "python3"
  },
  "language_info": {
   "codemirror_mode": {
    "name": "ipython",
    "version": 3
   },
   "file_extension": ".py",
   "mimetype": "text/x-python",
   "name": "python",
   "nbconvert_exporter": "python",
   "pygments_lexer": "ipython3",
   "version": "3.7.3"
  }
 },
 "nbformat": 4,
 "nbformat_minor": 2
}
